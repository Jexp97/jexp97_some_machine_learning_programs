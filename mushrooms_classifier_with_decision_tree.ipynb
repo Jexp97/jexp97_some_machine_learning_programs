{
 "cells": [
  {
   "cell_type": "markdown",
   "metadata": {},
   "source": [
    "# Mushrooms\n",
    "\n",
    "### Classification using the mushroom dataset from the Kaggle/UCI machine learning"
   ]
  },
  {
   "cell_type": "markdown",
   "metadata": {},
   "source": [
    "### Content\n",
    "\n",
    "This dataset includes descriptions of hypothetical samples corresponding to 23 species of gilled mushrooms in the Agaricus and Lepiota Family Mushroom drawn from The Audubon Society Field Guide to North American Mushrooms (1981). Each species is identified as definitely edible, definitely poisonous, or of unknown edibility and not recommended. This latter class was combined with the poisonous one. The Guide clearly states that there is no simple rule for determining the edibility of a mushroom; no rule like \"leaflets three, let it be'' for Poisonous Oak and Ivy.\n",
    "\n",
    "What types of machine learning models perform best on this dataset?\n",
    "\n",
    "Which features are most indicative of a poisonous mushroom?"
   ]
  },
  {
   "cell_type": "markdown",
   "metadata": {},
   "source": [
    "### About\n",
    "\n",
    "Attribute Information: (classes: edible=e, poisonous=p)\n",
    "\n",
    "cap-shape: bell=b,conical=c,convex=x,flat=f, knobbed=k,sunken=s\n",
    "\n",
    "cap-surface: fibrous=f,grooves=g,scaly=y,smooth=s\n",
    "\n",
    "cap-color: brown=n,buff=b,cinnamon=c,gray=g,green=r,pink=p,purple=u,red=e,white=w,yellow=y\n",
    "\n",
    "bruises: bruises=t,no=f\n",
    "\n",
    "odor: almond=a,anise=l,creosote=c,fishy=y,foul=f,musty=m,none=n,pungent=p,spicy=s\n",
    "\n",
    "gill-attachment: attached=a,descending=d,free=f,notched=n\n",
    "\n",
    "gill-spacing: close=c,crowded=w,distant=d\n",
    "\n",
    "gill-size: broad=b,narrow=n\n",
    "\n",
    "gill-color: black=k,brown=n,buff=b,chocolate=h,gray=g, green=r,orange=o,pink=p,purple=u,red=e,white=w,yellow=y\n",
    "\n",
    "stalk-shape: enlarging=e,tapering=t\n",
    "\n",
    "stalk-root: bulbous=b,club=c,cup=u,equal=e,rhizomorphs=z,rooted=r,missing=?\n",
    "\n",
    "stalk-surface-above-ring: fibrous=f,scaly=y,silky=k,smooth=s\n",
    "\n",
    "stalk-surface-below-ring: fibrous=f,scaly=y,silky=k,smooth=s\n",
    "\n",
    "stalk-color-above-ring: brown=n,buff=b,cinnamon=c,gray=g,orange=o,pink=p,red=e,white=w,yellow=y\n",
    "\n",
    "stalk-color-below-ring: brown=n,buff=b,cinnamon=c,gray=g,orange=o,pink=p,red=e,white=w,yellow=y\n",
    "\n",
    "veil-type: partial=p,universal=u\n",
    "\n",
    "veil-color: brown=n,orange=o,white=w,yellow=y\n",
    "\n",
    "ring-number: none=n,one=o,two=t\n",
    "\n",
    "ring-type: cobwebby=c,evanescent=e,flaring=f,large=l,none=n,pendant=p,sheathing=s,zone=z\n",
    "\n",
    "spore-print-color: black=k,brown=n,buff=b,chocolate=h,green=r,orange=o,purple=u,white=w,yellow=y\n",
    "\n",
    "population: abundant=a,clustered=c,numerous=n,scattered=s,several=v,solitary=y\n",
    "\n",
    "habitat: grasses=g,leaves=l,meadows=m,paths=p,urban=u,waste=w,woods=d"
   ]
  },
  {
   "cell_type": "code",
   "execution_count": 1,
   "metadata": {},
   "outputs": [],
   "source": [
    "#-----------------------------------------------------#\n",
    "import numpy as np\n",
    "import pandas as pd\n",
    "#-----------------------------------------------------#\n",
    "# Decision Tree Classifier\n",
    "from sklearn.tree import DecisionTreeClassifier\n",
    "\n",
    "from sklearn.tree import plot_tree\n",
    "\n",
    "# K-Fold Cross Validation\n",
    "from sklearn.model_selection import KFold\n",
    "#-----------------------------------------------------#\n",
    "# Accuracy metric\n",
    "from sklearn.metrics import accuracy_score\n",
    "\n",
    "# F1 score metric\n",
    "from sklearn.metrics import f1_score\n",
    "\n",
    "# Precision metric\n",
    "from sklearn.metrics import precision_score\n",
    "\n",
    "# Recall metric\n",
    "from sklearn.metrics import recall_score\n",
    "\n",
    "# Principal Component Analysis (PCA)\n",
    "from sklearn.decomposition import PCA\n",
    "\n",
    "# To save and load a model\n",
    "import pickle"
   ]
  },
  {
   "cell_type": "code",
   "execution_count": 2,
   "metadata": {},
   "outputs": [],
   "source": [
    "filename = 'mushrooms.csv'\n",
    "\n",
    "dataset = pd.read_csv(filename)"
   ]
  },
  {
   "cell_type": "code",
   "execution_count": 3,
   "metadata": {},
   "outputs": [
    {
     "data": {
      "text/html": [
       "<div>\n",
       "<style scoped>\n",
       "    .dataframe tbody tr th:only-of-type {\n",
       "        vertical-align: middle;\n",
       "    }\n",
       "\n",
       "    .dataframe tbody tr th {\n",
       "        vertical-align: top;\n",
       "    }\n",
       "\n",
       "    .dataframe thead th {\n",
       "        text-align: right;\n",
       "    }\n",
       "</style>\n",
       "<table border=\"1\" class=\"dataframe\">\n",
       "  <thead>\n",
       "    <tr style=\"text-align: right;\">\n",
       "      <th></th>\n",
       "      <th>class</th>\n",
       "      <th>cap-shape</th>\n",
       "      <th>cap-surface</th>\n",
       "      <th>cap-color</th>\n",
       "      <th>bruises</th>\n",
       "      <th>odor</th>\n",
       "      <th>gill-attachment</th>\n",
       "      <th>gill-spacing</th>\n",
       "      <th>gill-size</th>\n",
       "      <th>gill-color</th>\n",
       "      <th>...</th>\n",
       "      <th>stalk-surface-below-ring</th>\n",
       "      <th>stalk-color-above-ring</th>\n",
       "      <th>stalk-color-below-ring</th>\n",
       "      <th>veil-type</th>\n",
       "      <th>veil-color</th>\n",
       "      <th>ring-number</th>\n",
       "      <th>ring-type</th>\n",
       "      <th>spore-print-color</th>\n",
       "      <th>population</th>\n",
       "      <th>habitat</th>\n",
       "    </tr>\n",
       "  </thead>\n",
       "  <tbody>\n",
       "    <tr>\n",
       "      <th>0</th>\n",
       "      <td>p</td>\n",
       "      <td>x</td>\n",
       "      <td>s</td>\n",
       "      <td>n</td>\n",
       "      <td>t</td>\n",
       "      <td>p</td>\n",
       "      <td>f</td>\n",
       "      <td>c</td>\n",
       "      <td>n</td>\n",
       "      <td>k</td>\n",
       "      <td>...</td>\n",
       "      <td>s</td>\n",
       "      <td>w</td>\n",
       "      <td>w</td>\n",
       "      <td>p</td>\n",
       "      <td>w</td>\n",
       "      <td>o</td>\n",
       "      <td>p</td>\n",
       "      <td>k</td>\n",
       "      <td>s</td>\n",
       "      <td>u</td>\n",
       "    </tr>\n",
       "    <tr>\n",
       "      <th>1</th>\n",
       "      <td>e</td>\n",
       "      <td>x</td>\n",
       "      <td>s</td>\n",
       "      <td>y</td>\n",
       "      <td>t</td>\n",
       "      <td>a</td>\n",
       "      <td>f</td>\n",
       "      <td>c</td>\n",
       "      <td>b</td>\n",
       "      <td>k</td>\n",
       "      <td>...</td>\n",
       "      <td>s</td>\n",
       "      <td>w</td>\n",
       "      <td>w</td>\n",
       "      <td>p</td>\n",
       "      <td>w</td>\n",
       "      <td>o</td>\n",
       "      <td>p</td>\n",
       "      <td>n</td>\n",
       "      <td>n</td>\n",
       "      <td>g</td>\n",
       "    </tr>\n",
       "    <tr>\n",
       "      <th>2</th>\n",
       "      <td>e</td>\n",
       "      <td>b</td>\n",
       "      <td>s</td>\n",
       "      <td>w</td>\n",
       "      <td>t</td>\n",
       "      <td>l</td>\n",
       "      <td>f</td>\n",
       "      <td>c</td>\n",
       "      <td>b</td>\n",
       "      <td>n</td>\n",
       "      <td>...</td>\n",
       "      <td>s</td>\n",
       "      <td>w</td>\n",
       "      <td>w</td>\n",
       "      <td>p</td>\n",
       "      <td>w</td>\n",
       "      <td>o</td>\n",
       "      <td>p</td>\n",
       "      <td>n</td>\n",
       "      <td>n</td>\n",
       "      <td>m</td>\n",
       "    </tr>\n",
       "    <tr>\n",
       "      <th>3</th>\n",
       "      <td>p</td>\n",
       "      <td>x</td>\n",
       "      <td>y</td>\n",
       "      <td>w</td>\n",
       "      <td>t</td>\n",
       "      <td>p</td>\n",
       "      <td>f</td>\n",
       "      <td>c</td>\n",
       "      <td>n</td>\n",
       "      <td>n</td>\n",
       "      <td>...</td>\n",
       "      <td>s</td>\n",
       "      <td>w</td>\n",
       "      <td>w</td>\n",
       "      <td>p</td>\n",
       "      <td>w</td>\n",
       "      <td>o</td>\n",
       "      <td>p</td>\n",
       "      <td>k</td>\n",
       "      <td>s</td>\n",
       "      <td>u</td>\n",
       "    </tr>\n",
       "    <tr>\n",
       "      <th>4</th>\n",
       "      <td>e</td>\n",
       "      <td>x</td>\n",
       "      <td>s</td>\n",
       "      <td>g</td>\n",
       "      <td>f</td>\n",
       "      <td>n</td>\n",
       "      <td>f</td>\n",
       "      <td>w</td>\n",
       "      <td>b</td>\n",
       "      <td>k</td>\n",
       "      <td>...</td>\n",
       "      <td>s</td>\n",
       "      <td>w</td>\n",
       "      <td>w</td>\n",
       "      <td>p</td>\n",
       "      <td>w</td>\n",
       "      <td>o</td>\n",
       "      <td>e</td>\n",
       "      <td>n</td>\n",
       "      <td>a</td>\n",
       "      <td>g</td>\n",
       "    </tr>\n",
       "  </tbody>\n",
       "</table>\n",
       "<p>5 rows × 23 columns</p>\n",
       "</div>"
      ],
      "text/plain": [
       "  class cap-shape cap-surface cap-color bruises odor gill-attachment  \\\n",
       "0     p         x           s         n       t    p               f   \n",
       "1     e         x           s         y       t    a               f   \n",
       "2     e         b           s         w       t    l               f   \n",
       "3     p         x           y         w       t    p               f   \n",
       "4     e         x           s         g       f    n               f   \n",
       "\n",
       "  gill-spacing gill-size gill-color  ... stalk-surface-below-ring  \\\n",
       "0            c         n          k  ...                        s   \n",
       "1            c         b          k  ...                        s   \n",
       "2            c         b          n  ...                        s   \n",
       "3            c         n          n  ...                        s   \n",
       "4            w         b          k  ...                        s   \n",
       "\n",
       "  stalk-color-above-ring stalk-color-below-ring veil-type veil-color  \\\n",
       "0                      w                      w         p          w   \n",
       "1                      w                      w         p          w   \n",
       "2                      w                      w         p          w   \n",
       "3                      w                      w         p          w   \n",
       "4                      w                      w         p          w   \n",
       "\n",
       "  ring-number ring-type spore-print-color population habitat  \n",
       "0           o         p                 k          s       u  \n",
       "1           o         p                 n          n       g  \n",
       "2           o         p                 n          n       m  \n",
       "3           o         p                 k          s       u  \n",
       "4           o         e                 n          a       g  \n",
       "\n",
       "[5 rows x 23 columns]"
      ]
     },
     "execution_count": 3,
     "metadata": {},
     "output_type": "execute_result"
    }
   ],
   "source": [
    "dataset.head()"
   ]
  },
  {
   "cell_type": "code",
   "execution_count": 4,
   "metadata": {},
   "outputs": [
    {
     "data": {
      "text/plain": [
       "(8124, 23)"
      ]
     },
     "execution_count": 4,
     "metadata": {},
     "output_type": "execute_result"
    }
   ],
   "source": [
    "dataset.shape"
   ]
  },
  {
   "cell_type": "markdown",
   "metadata": {},
   "source": [
    "Checking for unique values in the columns"
   ]
  },
  {
   "cell_type": "code",
   "execution_count": 5,
   "metadata": {},
   "outputs": [
    {
     "data": {
      "text/plain": [
       "array(['p', 'e'], dtype=object)"
      ]
     },
     "execution_count": 5,
     "metadata": {},
     "output_type": "execute_result"
    }
   ],
   "source": [
    "dataset.loc[:,\"class\"].unique()"
   ]
  },
  {
   "cell_type": "code",
   "execution_count": 6,
   "metadata": {},
   "outputs": [
    {
     "data": {
      "text/plain": [
       "array(['x', 'b', 's', 'f', 'k', 'c'], dtype=object)"
      ]
     },
     "execution_count": 6,
     "metadata": {},
     "output_type": "execute_result"
    }
   ],
   "source": [
    "dataset.loc[:,\"cap-shape\"].unique()"
   ]
  },
  {
   "cell_type": "code",
   "execution_count": 7,
   "metadata": {},
   "outputs": [
    {
     "data": {
      "text/plain": [
       "array(['s', 'y', 'f', 'g'], dtype=object)"
      ]
     },
     "execution_count": 7,
     "metadata": {},
     "output_type": "execute_result"
    }
   ],
   "source": [
    "dataset.loc[:,\"cap-surface\"].unique()"
   ]
  },
  {
   "cell_type": "code",
   "execution_count": 8,
   "metadata": {},
   "outputs": [
    {
     "data": {
      "text/plain": [
       "array(['n', 'y', 'w', 'g', 'e', 'p', 'b', 'u', 'c', 'r'], dtype=object)"
      ]
     },
     "execution_count": 8,
     "metadata": {},
     "output_type": "execute_result"
    }
   ],
   "source": [
    "dataset.loc[:,\"cap-color\"].unique()"
   ]
  },
  {
   "cell_type": "code",
   "execution_count": 9,
   "metadata": {},
   "outputs": [
    {
     "data": {
      "text/plain": [
       "array(['t', 'f'], dtype=object)"
      ]
     },
     "execution_count": 9,
     "metadata": {},
     "output_type": "execute_result"
    }
   ],
   "source": [
    "dataset.loc[:,\"bruises\"].unique()"
   ]
  },
  {
   "cell_type": "code",
   "execution_count": 10,
   "metadata": {},
   "outputs": [
    {
     "data": {
      "text/plain": [
       "array(['p', 'a', 'l', 'n', 'f', 'c', 'y', 's', 'm'], dtype=object)"
      ]
     },
     "execution_count": 10,
     "metadata": {},
     "output_type": "execute_result"
    }
   ],
   "source": [
    "dataset.loc[:,\"odor\"].unique()"
   ]
  },
  {
   "cell_type": "code",
   "execution_count": 11,
   "metadata": {},
   "outputs": [
    {
     "data": {
      "text/plain": [
       "array(['f', 'a'], dtype=object)"
      ]
     },
     "execution_count": 11,
     "metadata": {},
     "output_type": "execute_result"
    }
   ],
   "source": [
    "dataset.loc[:,\"gill-attachment\"].unique()"
   ]
  },
  {
   "cell_type": "code",
   "execution_count": 12,
   "metadata": {},
   "outputs": [
    {
     "data": {
      "text/plain": [
       "array(['c', 'w'], dtype=object)"
      ]
     },
     "execution_count": 12,
     "metadata": {},
     "output_type": "execute_result"
    }
   ],
   "source": [
    "dataset.loc[:,\"gill-spacing\"].unique()"
   ]
  },
  {
   "cell_type": "code",
   "execution_count": 13,
   "metadata": {},
   "outputs": [
    {
     "data": {
      "text/plain": [
       "array(['n', 'b'], dtype=object)"
      ]
     },
     "execution_count": 13,
     "metadata": {},
     "output_type": "execute_result"
    }
   ],
   "source": [
    "dataset.loc[:,\"gill-size\"].unique()"
   ]
  },
  {
   "cell_type": "code",
   "execution_count": 14,
   "metadata": {},
   "outputs": [
    {
     "data": {
      "text/plain": [
       "array(['k', 'n', 'g', 'p', 'w', 'h', 'u', 'e', 'b', 'r', 'y', 'o'],\n",
       "      dtype=object)"
      ]
     },
     "execution_count": 14,
     "metadata": {},
     "output_type": "execute_result"
    }
   ],
   "source": [
    "dataset.loc[:,\"gill-color\"].unique()"
   ]
  },
  {
   "cell_type": "code",
   "execution_count": 15,
   "metadata": {},
   "outputs": [
    {
     "data": {
      "text/plain": [
       "array(['e', 't'], dtype=object)"
      ]
     },
     "execution_count": 15,
     "metadata": {},
     "output_type": "execute_result"
    }
   ],
   "source": [
    "dataset.loc[:,\"stalk-shape\"].unique()"
   ]
  },
  {
   "cell_type": "code",
   "execution_count": 16,
   "metadata": {},
   "outputs": [
    {
     "data": {
      "text/plain": [
       "array(['e', 'c', 'b', 'r', '?'], dtype=object)"
      ]
     },
     "execution_count": 16,
     "metadata": {},
     "output_type": "execute_result"
    }
   ],
   "source": [
    "dataset.loc[:,\"stalk-root\"].unique()"
   ]
  },
  {
   "cell_type": "code",
   "execution_count": 17,
   "metadata": {},
   "outputs": [
    {
     "data": {
      "text/plain": [
       "array(['s', 'f', 'k', 'y'], dtype=object)"
      ]
     },
     "execution_count": 17,
     "metadata": {},
     "output_type": "execute_result"
    }
   ],
   "source": [
    "dataset.loc[:,\"stalk-surface-above-ring\"].unique()"
   ]
  },
  {
   "cell_type": "code",
   "execution_count": 18,
   "metadata": {},
   "outputs": [
    {
     "data": {
      "text/plain": [
       "array(['s', 'f', 'y', 'k'], dtype=object)"
      ]
     },
     "execution_count": 18,
     "metadata": {},
     "output_type": "execute_result"
    }
   ],
   "source": [
    "dataset.loc[:,\"stalk-surface-below-ring\"].unique()"
   ]
  },
  {
   "cell_type": "code",
   "execution_count": 19,
   "metadata": {},
   "outputs": [
    {
     "data": {
      "text/plain": [
       "array(['w', 'g', 'p', 'n', 'b', 'e', 'o', 'c', 'y'], dtype=object)"
      ]
     },
     "execution_count": 19,
     "metadata": {},
     "output_type": "execute_result"
    }
   ],
   "source": [
    "dataset.loc[:,\"stalk-color-above-ring\"].unique()"
   ]
  },
  {
   "cell_type": "code",
   "execution_count": 20,
   "metadata": {},
   "outputs": [
    {
     "data": {
      "text/plain": [
       "array(['w', 'p', 'g', 'b', 'n', 'e', 'y', 'o', 'c'], dtype=object)"
      ]
     },
     "execution_count": 20,
     "metadata": {},
     "output_type": "execute_result"
    }
   ],
   "source": [
    "dataset.loc[:,\"stalk-color-below-ring\"].unique()"
   ]
  },
  {
   "cell_type": "code",
   "execution_count": 21,
   "metadata": {},
   "outputs": [
    {
     "data": {
      "text/plain": [
       "array(['p'], dtype=object)"
      ]
     },
     "execution_count": 21,
     "metadata": {},
     "output_type": "execute_result"
    }
   ],
   "source": [
    "dataset.loc[:,\"veil-type\"].unique()"
   ]
  },
  {
   "cell_type": "code",
   "execution_count": 22,
   "metadata": {},
   "outputs": [
    {
     "data": {
      "text/plain": [
       "array(['w', 'n', 'o', 'y'], dtype=object)"
      ]
     },
     "execution_count": 22,
     "metadata": {},
     "output_type": "execute_result"
    }
   ],
   "source": [
    "dataset.loc[:,\"veil-color\"].unique()"
   ]
  },
  {
   "cell_type": "code",
   "execution_count": 23,
   "metadata": {},
   "outputs": [
    {
     "data": {
      "text/plain": [
       "array(['o', 't', 'n'], dtype=object)"
      ]
     },
     "execution_count": 23,
     "metadata": {},
     "output_type": "execute_result"
    }
   ],
   "source": [
    "dataset.loc[:,\"ring-number\"].unique()"
   ]
  },
  {
   "cell_type": "code",
   "execution_count": 24,
   "metadata": {},
   "outputs": [
    {
     "data": {
      "text/plain": [
       "array(['p', 'e', 'l', 'f', 'n'], dtype=object)"
      ]
     },
     "execution_count": 24,
     "metadata": {},
     "output_type": "execute_result"
    }
   ],
   "source": [
    "dataset.loc[:,\"ring-type\"].unique()"
   ]
  },
  {
   "cell_type": "code",
   "execution_count": 25,
   "metadata": {},
   "outputs": [
    {
     "data": {
      "text/plain": [
       "array(['k', 'n', 'u', 'h', 'w', 'r', 'o', 'y', 'b'], dtype=object)"
      ]
     },
     "execution_count": 25,
     "metadata": {},
     "output_type": "execute_result"
    }
   ],
   "source": [
    "dataset.loc[:,\"spore-print-color\"].unique()"
   ]
  },
  {
   "cell_type": "code",
   "execution_count": 26,
   "metadata": {},
   "outputs": [
    {
     "data": {
      "text/plain": [
       "array(['s', 'n', 'a', 'v', 'y', 'c'], dtype=object)"
      ]
     },
     "execution_count": 26,
     "metadata": {},
     "output_type": "execute_result"
    }
   ],
   "source": [
    "dataset.loc[:,\"population\"].unique()"
   ]
  },
  {
   "cell_type": "code",
   "execution_count": 27,
   "metadata": {},
   "outputs": [
    {
     "data": {
      "text/plain": [
       "array(['u', 'g', 'm', 'd', 'p', 'w', 'l'], dtype=object)"
      ]
     },
     "execution_count": 27,
     "metadata": {},
     "output_type": "execute_result"
    }
   ],
   "source": [
    "dataset.loc[:,\"habitat\"].unique()"
   ]
  },
  {
   "cell_type": "markdown",
   "metadata": {},
   "source": [
    "## Data preprocessing"
   ]
  },
  {
   "cell_type": "markdown",
   "metadata": {},
   "source": [
    "The data are categoricals, but their values are letters. So, what I will do is replace them with numerical values.\n",
    "\n",
    "The following rules will be adopted."
   ]
  },
  {
   "cell_type": "markdown",
   "metadata": {},
   "source": [
    "Attribute Information: (classes: edible=e(0), poisonous=p(1))\n",
    "\n",
    "cap-shape: bell=b(1),conical=c(2),convex=x(3),flat=f(4), knobbed=k(5),sunken=s(6)\n",
    "\n",
    "cap-surface: fibrous=f(1),grooves=g(2),scaly=y(3),smooth=s(4)\n",
    "\n",
    "cap-color: brown=n(1),buff=b(2),cinnamon=c(3),gray=g(4),green=r(5),pink=p(6),purple=u(7),red=e(8),white=w(9),yellow=y(10)\n",
    "\n",
    "bruises: bruises=t(1),no=f(0)\n",
    "\n",
    "odor: almond=a(1),anise=l(2),creosote=c(3),fishy=y(4),foul=f(5),musty=m(6),none=n(7),pungent=p(8),spicy=s(9)\n",
    "\n",
    "gill-attachment: attached=a(1),descending=d(2),free=f(3),notched=n(4)\n",
    "\n",
    "gill-spacing: close=c(1),crowded=w(2),distant=d(3)\n",
    "\n",
    "gill-size: broad=b(1),narrow=n(0)\n",
    "\n",
    "gill-color: black=k(1),brown=n(2),buff=b(3),chocolate=h(4),gray=g(5), green=r(6),orange=o(7),pink=p(8),purple=u(9),red=e(10),white=w(11),yellow=y(12)\n",
    "\n",
    "stalk-shape: enlarging=e(1),tapering=t(0)\n",
    "\n",
    "stalk-root: bulbous=b(1),club=c(2),cup=u(3),equal=e(4),rhizomorphs=z(5),rooted=r(6),missing=?(7)\n",
    "\n",
    "stalk-surface-above-ring: fibrous=f(1),scaly=y(2),silky=k(3),smooth=s(4)\n",
    "\n",
    "stalk-surface-below-ring: fibrous=f(1),scaly=y(2),silky=k(3),smooth=s(4)\n",
    "\n",
    "stalk-color-above-ring: brown=n(1),buff=b(2),cinnamon=c(3),gray=g(4),orange=o(5),pink=p(6),red=e(7),white=w(8),yellow=y(9)\n",
    "\n",
    "stalk-color-below-ring: brown=n(1),buff=b(2),cinnamon=c(3),gray=g(4),orange=o(5),pink=p(6),red=e(7),white=w(8),yellow=y(9)\n",
    "\n",
    "veil-type: partial=p(1),universal=u(0)\n",
    "\n",
    "veil-color: brown=n(1),orange=o(2),white=w(3),yellow=y(4)\n",
    "\n",
    "ring-number: none=n(0),one=o(1),two=t(2)\n",
    "\n",
    "ring-type: cobwebby=c(1),evanescent=e(2),flaring=f(3),large=l(4),none=n(5),pendant=p(6),sheathing=s(7),zone=z(8)\n",
    "\n",
    "spore-print-color: black=k(1),brown=n(2),buff=b(3),chocolate=h(4),green=r(5),orange=o(6),purple=u(7),white=w(8),yellow=y(9)\n",
    "\n",
    "population: abundant=a(1),clustered=c(2),numerous=n(3),scattered=s(4),several=v(5),solitary=y(6)\n",
    "\n",
    "habitat: grasses=g(1),leaves=l(2),meadows=m(3),paths=p(4),urban=u(5),waste=w(6),woods=d(7)"
   ]
  },
  {
   "cell_type": "code",
   "execution_count": 28,
   "metadata": {},
   "outputs": [],
   "source": [
    "# creating dictionaries\n",
    "classes_d = {'e':0, 'p':1}\n",
    "cap_shape_d = {'b':1, 'c':2, 'x':3, 'f':4, 'k':5, 's':6}\n",
    "cap_surface_d = {'f':1, 'g':2, 'y':3, 's':4}\n",
    "cap_color_d = {'n':1, 'b':2, 'c':3, 'g':4, 'r':5, 'p':6, 'u':7, 'e':8, 'w':9, 'y':10}\n",
    "bruises_d = {'t':1, 'f':0}\n",
    "odor_d = {'a':1, 'l':2, 'c':3, 'y':4, 'f':5, 'm':6, 'n':7, 'p':8, 's':9}\n",
    "gill_attachment_d ={'a':1, 'd':2, 'f':3, 'n':4}\n",
    "gill_spacing_d = {'c':1, 'w':2, 'd':3}\n",
    "gill_size_d = {'b':1, 'n':0}\n",
    "gill_color_d = {'k':1, 'n':2, 'b':3, 'h':4, 'g':5, 'r':6, 'o':7, 'p':8, 'u':9, 'e':10, 'w':11, 'y':12}\n",
    "stalk_shape_d = {'e':1, 't':0}\n",
    "stalk_root_d = {'b':1, 'c':2, 'u':3, 'e':4, 'z':5, 'r':6, '?':7}\n",
    "stalk_surface_above_ring_d = {'f':1, 'y':2, 'k':3, 's':4}\n",
    "stalk_surface_below_ring_d = {'f':1, 'y':2, 'k':3, 's':4}\n",
    "stalk_color_above_ring_d = {'n':1, 'b':2, 'c':3, 'g':4, 'o':5, 'p':6, 'e':7, 'w':8, 'y':9}\n",
    "stalk_color_below_ring_d = {'n':1, 'b':2, 'c':3, 'g':4, 'o':5, 'p':6, 'e':7, 'w':8, 'y':9}\n",
    "veil_type_d = {'p':1, 'u':0}\n",
    "veil_color_d = {'n':1, 'o':2, 'w':3, 'y':4}\n",
    "ring_number_d = {'n':0, 'o':1, 't':2}\n",
    "ring_type_d = {'c':1, 'e':2, 'f':3, 'l':4, 'n':5, 'p':6, 's':7, 'z':8}\n",
    "spore_print_color_d = {'k':1, 'n':2, 'b':3, 'h':4, 'r':5, 'o':6, 'u':7, 'w':8, 'y':9}\n",
    "population_d = {'a':1, 'c':2, 'n':3, 's':4, 'v':5, 'y':6}\n",
    "habitat_d = {'g':1, 'l':2, 'm':3, 'p':4, 'u':5, 'w':6, 'd':7}"
   ]
  },
  {
   "cell_type": "code",
   "execution_count": 29,
   "metadata": {},
   "outputs": [],
   "source": [
    "# creating an iterable (in the case, a list) for the dictionaries\n",
    "dicts = [classes_d,\n",
    "         cap_shape_d,\n",
    "         cap_surface_d,\n",
    "         cap_color_d,\n",
    "         bruises_d,\n",
    "         odor_d,\n",
    "         gill_attachment_d,\n",
    "         gill_spacing_d,\n",
    "         gill_size_d,\n",
    "         gill_color_d,\n",
    "         stalk_shape_d,\n",
    "         stalk_root_d,\n",
    "         stalk_surface_above_ring_d,\n",
    "         stalk_surface_below_ring_d,\n",
    "         stalk_color_above_ring_d,\n",
    "         stalk_color_below_ring_d,\n",
    "         veil_type_d,\n",
    "         veil_color_d,\n",
    "         ring_number_d,\n",
    "         ring_type_d,\n",
    "         spore_print_color_d,\n",
    "         population_d,\n",
    "         habitat_d\n",
    "        ]"
   ]
  },
  {
   "cell_type": "code",
   "execution_count": 30,
   "metadata": {},
   "outputs": [
    {
     "name": "stdout",
     "output_type": "stream",
     "text": [
      "class\n",
      "cap-shape\n",
      "cap-surface\n",
      "cap-color\n",
      "bruises\n",
      "odor\n",
      "gill-attachment\n",
      "gill-spacing\n",
      "gill-size\n",
      "gill-color\n",
      "stalk-shape\n",
      "stalk-root\n",
      "stalk-surface-above-ring\n",
      "stalk-surface-below-ring\n",
      "stalk-color-above-ring\n",
      "stalk-color-below-ring\n",
      "veil-type\n",
      "veil-color\n",
      "ring-number\n",
      "ring-type\n",
      "spore-print-color\n",
      "population\n",
      "habitat\n"
     ]
    }
   ],
   "source": [
    "# some tests\n",
    "for column in dataset.columns:\n",
    "    print(column)"
   ]
  },
  {
   "cell_type": "code",
   "execution_count": 31,
   "metadata": {},
   "outputs": [],
   "source": [
    "# creating a new dataset to keep the original the same\n",
    "numerical_dataset = dataset.copy()"
   ]
  },
  {
   "cell_type": "code",
   "execution_count": 32,
   "metadata": {},
   "outputs": [
    {
     "data": {
      "text/plain": [
       "0       p\n",
       "1       e\n",
       "2       e\n",
       "3       p\n",
       "4       e\n",
       "       ..\n",
       "8119    e\n",
       "8120    e\n",
       "8121    e\n",
       "8122    p\n",
       "8123    e\n",
       "Name: class, Length: 8124, dtype: object"
      ]
     },
     "execution_count": 32,
     "metadata": {},
     "output_type": "execute_result"
    }
   ],
   "source": [
    "numerical_dataset.iloc[:,0]"
   ]
  },
  {
   "cell_type": "code",
   "execution_count": 33,
   "metadata": {},
   "outputs": [
    {
     "name": "stdout",
     "output_type": "stream",
     "text": [
      "p\n",
      "e\n"
     ]
    }
   ],
   "source": [
    "for value in numerical_dataset.iloc[:,0].unique():\n",
    "    print(value)"
   ]
  },
  {
   "cell_type": "code",
   "execution_count": 34,
   "metadata": {},
   "outputs": [],
   "source": [
    "# Replacing the values with the dictionaries\n",
    "for indc, col in enumerate(numerical_dataset):\n",
    "    for value in numerical_dataset.iloc[:,indc].unique():\n",
    "        numerical_dataset[col] = numerical_dataset[col].replace([value], dicts[indc][value])"
   ]
  },
  {
   "cell_type": "code",
   "execution_count": 35,
   "metadata": {},
   "outputs": [
    {
     "data": {
      "text/html": [
       "<div>\n",
       "<style scoped>\n",
       "    .dataframe tbody tr th:only-of-type {\n",
       "        vertical-align: middle;\n",
       "    }\n",
       "\n",
       "    .dataframe tbody tr th {\n",
       "        vertical-align: top;\n",
       "    }\n",
       "\n",
       "    .dataframe thead th {\n",
       "        text-align: right;\n",
       "    }\n",
       "</style>\n",
       "<table border=\"1\" class=\"dataframe\">\n",
       "  <thead>\n",
       "    <tr style=\"text-align: right;\">\n",
       "      <th></th>\n",
       "      <th>class</th>\n",
       "      <th>cap-shape</th>\n",
       "      <th>cap-surface</th>\n",
       "      <th>cap-color</th>\n",
       "      <th>bruises</th>\n",
       "      <th>odor</th>\n",
       "      <th>gill-attachment</th>\n",
       "      <th>gill-spacing</th>\n",
       "      <th>gill-size</th>\n",
       "      <th>gill-color</th>\n",
       "      <th>...</th>\n",
       "      <th>stalk-surface-below-ring</th>\n",
       "      <th>stalk-color-above-ring</th>\n",
       "      <th>stalk-color-below-ring</th>\n",
       "      <th>veil-type</th>\n",
       "      <th>veil-color</th>\n",
       "      <th>ring-number</th>\n",
       "      <th>ring-type</th>\n",
       "      <th>spore-print-color</th>\n",
       "      <th>population</th>\n",
       "      <th>habitat</th>\n",
       "    </tr>\n",
       "  </thead>\n",
       "  <tbody>\n",
       "    <tr>\n",
       "      <th>0</th>\n",
       "      <td>1</td>\n",
       "      <td>3</td>\n",
       "      <td>4</td>\n",
       "      <td>1</td>\n",
       "      <td>1</td>\n",
       "      <td>8</td>\n",
       "      <td>3</td>\n",
       "      <td>1</td>\n",
       "      <td>0</td>\n",
       "      <td>1</td>\n",
       "      <td>...</td>\n",
       "      <td>4</td>\n",
       "      <td>8</td>\n",
       "      <td>8</td>\n",
       "      <td>1</td>\n",
       "      <td>3</td>\n",
       "      <td>1</td>\n",
       "      <td>6</td>\n",
       "      <td>1</td>\n",
       "      <td>4</td>\n",
       "      <td>5</td>\n",
       "    </tr>\n",
       "    <tr>\n",
       "      <th>1</th>\n",
       "      <td>0</td>\n",
       "      <td>3</td>\n",
       "      <td>4</td>\n",
       "      <td>10</td>\n",
       "      <td>1</td>\n",
       "      <td>1</td>\n",
       "      <td>3</td>\n",
       "      <td>1</td>\n",
       "      <td>1</td>\n",
       "      <td>1</td>\n",
       "      <td>...</td>\n",
       "      <td>4</td>\n",
       "      <td>8</td>\n",
       "      <td>8</td>\n",
       "      <td>1</td>\n",
       "      <td>3</td>\n",
       "      <td>1</td>\n",
       "      <td>6</td>\n",
       "      <td>2</td>\n",
       "      <td>3</td>\n",
       "      <td>1</td>\n",
       "    </tr>\n",
       "    <tr>\n",
       "      <th>2</th>\n",
       "      <td>0</td>\n",
       "      <td>1</td>\n",
       "      <td>4</td>\n",
       "      <td>9</td>\n",
       "      <td>1</td>\n",
       "      <td>2</td>\n",
       "      <td>3</td>\n",
       "      <td>1</td>\n",
       "      <td>1</td>\n",
       "      <td>2</td>\n",
       "      <td>...</td>\n",
       "      <td>4</td>\n",
       "      <td>8</td>\n",
       "      <td>8</td>\n",
       "      <td>1</td>\n",
       "      <td>3</td>\n",
       "      <td>1</td>\n",
       "      <td>6</td>\n",
       "      <td>2</td>\n",
       "      <td>3</td>\n",
       "      <td>3</td>\n",
       "    </tr>\n",
       "    <tr>\n",
       "      <th>3</th>\n",
       "      <td>1</td>\n",
       "      <td>3</td>\n",
       "      <td>3</td>\n",
       "      <td>9</td>\n",
       "      <td>1</td>\n",
       "      <td>8</td>\n",
       "      <td>3</td>\n",
       "      <td>1</td>\n",
       "      <td>0</td>\n",
       "      <td>2</td>\n",
       "      <td>...</td>\n",
       "      <td>4</td>\n",
       "      <td>8</td>\n",
       "      <td>8</td>\n",
       "      <td>1</td>\n",
       "      <td>3</td>\n",
       "      <td>1</td>\n",
       "      <td>6</td>\n",
       "      <td>1</td>\n",
       "      <td>4</td>\n",
       "      <td>5</td>\n",
       "    </tr>\n",
       "    <tr>\n",
       "      <th>4</th>\n",
       "      <td>0</td>\n",
       "      <td>3</td>\n",
       "      <td>4</td>\n",
       "      <td>4</td>\n",
       "      <td>0</td>\n",
       "      <td>7</td>\n",
       "      <td>3</td>\n",
       "      <td>2</td>\n",
       "      <td>1</td>\n",
       "      <td>1</td>\n",
       "      <td>...</td>\n",
       "      <td>4</td>\n",
       "      <td>8</td>\n",
       "      <td>8</td>\n",
       "      <td>1</td>\n",
       "      <td>3</td>\n",
       "      <td>1</td>\n",
       "      <td>2</td>\n",
       "      <td>2</td>\n",
       "      <td>1</td>\n",
       "      <td>1</td>\n",
       "    </tr>\n",
       "  </tbody>\n",
       "</table>\n",
       "<p>5 rows × 23 columns</p>\n",
       "</div>"
      ],
      "text/plain": [
       "   class  cap-shape  cap-surface  cap-color  bruises  odor  gill-attachment  \\\n",
       "0      1          3            4          1        1     8                3   \n",
       "1      0          3            4         10        1     1                3   \n",
       "2      0          1            4          9        1     2                3   \n",
       "3      1          3            3          9        1     8                3   \n",
       "4      0          3            4          4        0     7                3   \n",
       "\n",
       "   gill-spacing  gill-size  gill-color  ...  stalk-surface-below-ring  \\\n",
       "0             1          0           1  ...                         4   \n",
       "1             1          1           1  ...                         4   \n",
       "2             1          1           2  ...                         4   \n",
       "3             1          0           2  ...                         4   \n",
       "4             2          1           1  ...                         4   \n",
       "\n",
       "   stalk-color-above-ring  stalk-color-below-ring  veil-type  veil-color  \\\n",
       "0                       8                       8          1           3   \n",
       "1                       8                       8          1           3   \n",
       "2                       8                       8          1           3   \n",
       "3                       8                       8          1           3   \n",
       "4                       8                       8          1           3   \n",
       "\n",
       "   ring-number  ring-type  spore-print-color  population  habitat  \n",
       "0            1          6                  1           4        5  \n",
       "1            1          6                  2           3        1  \n",
       "2            1          6                  2           3        3  \n",
       "3            1          6                  1           4        5  \n",
       "4            1          2                  2           1        1  \n",
       "\n",
       "[5 rows x 23 columns]"
      ]
     },
     "execution_count": 35,
     "metadata": {},
     "output_type": "execute_result"
    }
   ],
   "source": [
    "numerical_dataset.head()"
   ]
  },
  {
   "cell_type": "code",
   "execution_count": 36,
   "metadata": {},
   "outputs": [],
   "source": [
    "# Something to make the print output prettier.\n",
    "class color_for_print:\n",
    "   PURPLE = '\\033[95m'\n",
    "   CYAN = '\\033[96m'\n",
    "   DARKCYAN = '\\033[36m'\n",
    "   BLUE = '\\033[94m'\n",
    "   GREEN = '\\033[92m'\n",
    "   YELLOW = '\\033[93m'\n",
    "   RED = '\\033[91m'\n",
    "   BOLD = '\\033[1m'\n",
    "   UNDERLINE = '\\033[4m'\n",
    "   END = '\\033[0m'"
   ]
  },
  {
   "cell_type": "code",
   "execution_count": null,
   "metadata": {},
   "outputs": [],
   "source": []
  },
  {
   "cell_type": "markdown",
   "metadata": {},
   "source": [
    "## Training and evaluating the model"
   ]
  },
  {
   "cell_type": "markdown",
   "metadata": {},
   "source": [
    "<b>Model</b>: Decision Tree<br>\n",
    "<b>Criterion</b>: 'gini'<br>\n",
    "<b>Pruning</b>: No (max_depth=None)<br>\n",
    "<b>Cross-Validation</b>: KFold (5 folds)<br>\n",
    "<b>Metrics</b>: Accuracy, F1, Precision, Recall<br>"
   ]
  },
  {
   "cell_type": "code",
   "execution_count": 37,
   "metadata": {},
   "outputs": [
    {
     "name": "stdout",
     "output_type": "stream",
     "text": [
      "\u001b[1m\u001b[91mTraining Set\u001b[0m\n",
      "Accuracy:  1.0\n",
      "F1 score:  1.0\n",
      "Precision score:  1.0\n",
      "Recall score:  1.0\n",
      "------------------------------\n",
      "\u001b[1m\u001b[94mTesting Set\u001b[0m\n",
      "Accuracy:  1.0\n",
      "F1 score:  1.0\n",
      "Precision score:  1.0\n",
      "Recall score:  1.0\n"
     ]
    }
   ],
   "source": [
    "kf = KFold(n_splits=5, shuffle=True, random_state=None)\n",
    "\n",
    "y_true_train = np.array([])\n",
    "y_pred_train = np.array([])\n",
    "\n",
    "y_true_test = np.array([])\n",
    "y_pred_test = np.array([])\n",
    "\n",
    "for train, test in kf.split(numerical_dataset):\n",
    "    x_train, x_test = numerical_dataset.values[train], numerical_dataset.values[test]\n",
    "    \n",
    "    # The target class is in the first column (column 0)\n",
    "    y_train = x_train[:,0]\n",
    "    x_train = x_train[:,1:]\n",
    "    y_test = x_test[:,0]\n",
    "    x_test = x_test[:,1:]\n",
    "    \n",
    "    dtc = DecisionTreeClassifier(criterion='gini', max_depth=None)\n",
    "    # training\n",
    "    dtc.fit(x_train, y_train)\n",
    "    \n",
    "    # predictions for the training set\n",
    "    for indx, input_ in enumerate(x_train):\n",
    "        y_true_train = np.append(y_true_train, y_train[indx])\n",
    "        y_pred_train = np.append(y_pred_train, dtc.predict([input_]))\n",
    "    \n",
    "    # predictions for the testing set\n",
    "    for indx, input_ in enumerate(x_test):\n",
    "        y_true_test = np.append(y_true_test, y_test[indx])\n",
    "        y_pred_test = np.append(y_pred_test, dtc.predict([input_]))\n",
    "    \n",
    "\n",
    "# Evaluating the results\n",
    "\n",
    "print(color_for_print.BOLD + color_for_print.RED + 'Training Set' + color_for_print.END)\n",
    "print('Accuracy: ', accuracy_score(y_true_train, y_pred_train))\n",
    "print('F1 score: ',f1_score(y_true_train, y_pred_train, average='macro'))\n",
    "print('Precision score: ',precision_score(y_true_train, y_pred_train, average='macro'))\n",
    "print('Recall score: ', recall_score(y_true_train, y_pred_train, average='macro'))\n",
    "print(30*'-')\n",
    "print(color_for_print.BOLD + color_for_print.BLUE + 'Testing Set' + color_for_print.END)\n",
    "print('Accuracy: ', accuracy_score(y_true_test, y_pred_test))\n",
    "print('F1 score: ',f1_score(y_true_test, y_pred_test, average='macro'))\n",
    "print('Precision score: ',precision_score(y_true_test, y_pred_test, average='macro'))\n",
    "print('Recall score: ', recall_score(y_true_test, y_pred_test, average='macro'))"
   ]
  },
  {
   "cell_type": "markdown",
   "metadata": {},
   "source": [
    "These results are kind of odd... although some people say it is possible for this dataset."
   ]
  },
  {
   "cell_type": "code",
   "execution_count": 38,
   "metadata": {},
   "outputs": [
    {
     "data": {
      "text/plain": [
       "array([ 3,  4,  1,  0,  7,  1,  1,  1, 12,  1,  7,  4,  4,  5,  5,  1,  1,\n",
       "        1,  6,  3,  5,  2], dtype=int64)"
      ]
     },
     "execution_count": 38,
     "metadata": {},
     "output_type": "execute_result"
    }
   ],
   "source": [
    "input_"
   ]
  },
  {
   "cell_type": "code",
   "execution_count": 39,
   "metadata": {},
   "outputs": [
    {
     "data": {
      "text/plain": [
       "0"
      ]
     },
     "execution_count": 39,
     "metadata": {},
     "output_type": "execute_result"
    }
   ],
   "source": [
    "y_test[indx]"
   ]
  },
  {
   "cell_type": "code",
   "execution_count": 40,
   "metadata": {},
   "outputs": [
    {
     "data": {
      "text/plain": [
       "array([0], dtype=int64)"
      ]
     },
     "execution_count": 40,
     "metadata": {},
     "output_type": "execute_result"
    }
   ],
   "source": [
    "dtc.predict([input_])"
   ]
  },
  {
   "cell_type": "code",
   "execution_count": 41,
   "metadata": {},
   "outputs": [
    {
     "data": {
      "text/html": [
       "<div>\n",
       "<style scoped>\n",
       "    .dataframe tbody tr th:only-of-type {\n",
       "        vertical-align: middle;\n",
       "    }\n",
       "\n",
       "    .dataframe tbody tr th {\n",
       "        vertical-align: top;\n",
       "    }\n",
       "\n",
       "    .dataframe thead tr th {\n",
       "        text-align: left;\n",
       "    }\n",
       "</style>\n",
       "<table border=\"1\" class=\"dataframe\">\n",
       "  <thead>\n",
       "    <tr>\n",
       "      <th></th>\n",
       "      <th>cap-shape</th>\n",
       "      <th>cap-surface</th>\n",
       "      <th>cap-color</th>\n",
       "      <th>bruises</th>\n",
       "      <th>odor</th>\n",
       "      <th>gill-attachment</th>\n",
       "      <th>gill-spacing</th>\n",
       "      <th>gill-size</th>\n",
       "      <th>gill-color</th>\n",
       "      <th>stalk-shape</th>\n",
       "      <th>...</th>\n",
       "      <th>stalk-surface-below-ring</th>\n",
       "      <th>stalk-color-above-ring</th>\n",
       "      <th>stalk-color-below-ring</th>\n",
       "      <th>veil-type</th>\n",
       "      <th>veil-color</th>\n",
       "      <th>ring-number</th>\n",
       "      <th>ring-type</th>\n",
       "      <th>spore-print-color</th>\n",
       "      <th>population</th>\n",
       "      <th>habitat</th>\n",
       "    </tr>\n",
       "  </thead>\n",
       "  <tbody>\n",
       "    <tr>\n",
       "      <th>0</th>\n",
       "      <td>3</td>\n",
       "      <td>4</td>\n",
       "      <td>1</td>\n",
       "      <td>1</td>\n",
       "      <td>8</td>\n",
       "      <td>3</td>\n",
       "      <td>1</td>\n",
       "      <td>0</td>\n",
       "      <td>1</td>\n",
       "      <td>1</td>\n",
       "      <td>...</td>\n",
       "      <td>4</td>\n",
       "      <td>8</td>\n",
       "      <td>8</td>\n",
       "      <td>1</td>\n",
       "      <td>3</td>\n",
       "      <td>1</td>\n",
       "      <td>6</td>\n",
       "      <td>1</td>\n",
       "      <td>4</td>\n",
       "      <td>5</td>\n",
       "    </tr>\n",
       "    <tr>\n",
       "      <th>1</th>\n",
       "      <td>3</td>\n",
       "      <td>4</td>\n",
       "      <td>10</td>\n",
       "      <td>1</td>\n",
       "      <td>1</td>\n",
       "      <td>3</td>\n",
       "      <td>1</td>\n",
       "      <td>1</td>\n",
       "      <td>1</td>\n",
       "      <td>1</td>\n",
       "      <td>...</td>\n",
       "      <td>4</td>\n",
       "      <td>8</td>\n",
       "      <td>8</td>\n",
       "      <td>1</td>\n",
       "      <td>3</td>\n",
       "      <td>1</td>\n",
       "      <td>6</td>\n",
       "      <td>2</td>\n",
       "      <td>3</td>\n",
       "      <td>1</td>\n",
       "    </tr>\n",
       "    <tr>\n",
       "      <th>2</th>\n",
       "      <td>3</td>\n",
       "      <td>3</td>\n",
       "      <td>9</td>\n",
       "      <td>1</td>\n",
       "      <td>8</td>\n",
       "      <td>3</td>\n",
       "      <td>1</td>\n",
       "      <td>0</td>\n",
       "      <td>2</td>\n",
       "      <td>1</td>\n",
       "      <td>...</td>\n",
       "      <td>4</td>\n",
       "      <td>8</td>\n",
       "      <td>8</td>\n",
       "      <td>1</td>\n",
       "      <td>3</td>\n",
       "      <td>1</td>\n",
       "      <td>6</td>\n",
       "      <td>1</td>\n",
       "      <td>4</td>\n",
       "      <td>5</td>\n",
       "    </tr>\n",
       "    <tr>\n",
       "      <th>3</th>\n",
       "      <td>3</td>\n",
       "      <td>4</td>\n",
       "      <td>4</td>\n",
       "      <td>0</td>\n",
       "      <td>7</td>\n",
       "      <td>3</td>\n",
       "      <td>2</td>\n",
       "      <td>1</td>\n",
       "      <td>1</td>\n",
       "      <td>0</td>\n",
       "      <td>...</td>\n",
       "      <td>4</td>\n",
       "      <td>8</td>\n",
       "      <td>8</td>\n",
       "      <td>1</td>\n",
       "      <td>3</td>\n",
       "      <td>1</td>\n",
       "      <td>2</td>\n",
       "      <td>2</td>\n",
       "      <td>1</td>\n",
       "      <td>1</td>\n",
       "    </tr>\n",
       "    <tr>\n",
       "      <th>4</th>\n",
       "      <td>3</td>\n",
       "      <td>3</td>\n",
       "      <td>10</td>\n",
       "      <td>1</td>\n",
       "      <td>1</td>\n",
       "      <td>3</td>\n",
       "      <td>1</td>\n",
       "      <td>1</td>\n",
       "      <td>2</td>\n",
       "      <td>1</td>\n",
       "      <td>...</td>\n",
       "      <td>4</td>\n",
       "      <td>8</td>\n",
       "      <td>8</td>\n",
       "      <td>1</td>\n",
       "      <td>3</td>\n",
       "      <td>1</td>\n",
       "      <td>6</td>\n",
       "      <td>1</td>\n",
       "      <td>3</td>\n",
       "      <td>1</td>\n",
       "    </tr>\n",
       "    <tr>\n",
       "      <th>...</th>\n",
       "      <td>...</td>\n",
       "      <td>...</td>\n",
       "      <td>...</td>\n",
       "      <td>...</td>\n",
       "      <td>...</td>\n",
       "      <td>...</td>\n",
       "      <td>...</td>\n",
       "      <td>...</td>\n",
       "      <td>...</td>\n",
       "      <td>...</td>\n",
       "      <td>...</td>\n",
       "      <td>...</td>\n",
       "      <td>...</td>\n",
       "      <td>...</td>\n",
       "      <td>...</td>\n",
       "      <td>...</td>\n",
       "      <td>...</td>\n",
       "      <td>...</td>\n",
       "      <td>...</td>\n",
       "      <td>...</td>\n",
       "      <td>...</td>\n",
       "    </tr>\n",
       "    <tr>\n",
       "      <th>6495</th>\n",
       "      <td>5</td>\n",
       "      <td>4</td>\n",
       "      <td>8</td>\n",
       "      <td>0</td>\n",
       "      <td>4</td>\n",
       "      <td>3</td>\n",
       "      <td>1</td>\n",
       "      <td>0</td>\n",
       "      <td>3</td>\n",
       "      <td>0</td>\n",
       "      <td>...</td>\n",
       "      <td>4</td>\n",
       "      <td>6</td>\n",
       "      <td>8</td>\n",
       "      <td>1</td>\n",
       "      <td>3</td>\n",
       "      <td>1</td>\n",
       "      <td>2</td>\n",
       "      <td>8</td>\n",
       "      <td>5</td>\n",
       "      <td>7</td>\n",
       "    </tr>\n",
       "    <tr>\n",
       "      <th>6496</th>\n",
       "      <td>5</td>\n",
       "      <td>4</td>\n",
       "      <td>1</td>\n",
       "      <td>0</td>\n",
       "      <td>7</td>\n",
       "      <td>1</td>\n",
       "      <td>1</td>\n",
       "      <td>1</td>\n",
       "      <td>12</td>\n",
       "      <td>1</td>\n",
       "      <td>...</td>\n",
       "      <td>4</td>\n",
       "      <td>5</td>\n",
       "      <td>5</td>\n",
       "      <td>1</td>\n",
       "      <td>2</td>\n",
       "      <td>1</td>\n",
       "      <td>6</td>\n",
       "      <td>3</td>\n",
       "      <td>2</td>\n",
       "      <td>2</td>\n",
       "    </tr>\n",
       "    <tr>\n",
       "      <th>6497</th>\n",
       "      <td>4</td>\n",
       "      <td>4</td>\n",
       "      <td>1</td>\n",
       "      <td>0</td>\n",
       "      <td>7</td>\n",
       "      <td>1</td>\n",
       "      <td>1</td>\n",
       "      <td>1</td>\n",
       "      <td>2</td>\n",
       "      <td>1</td>\n",
       "      <td>...</td>\n",
       "      <td>4</td>\n",
       "      <td>5</td>\n",
       "      <td>5</td>\n",
       "      <td>1</td>\n",
       "      <td>2</td>\n",
       "      <td>1</td>\n",
       "      <td>6</td>\n",
       "      <td>3</td>\n",
       "      <td>2</td>\n",
       "      <td>2</td>\n",
       "    </tr>\n",
       "    <tr>\n",
       "      <th>6498</th>\n",
       "      <td>5</td>\n",
       "      <td>3</td>\n",
       "      <td>1</td>\n",
       "      <td>0</td>\n",
       "      <td>4</td>\n",
       "      <td>3</td>\n",
       "      <td>1</td>\n",
       "      <td>0</td>\n",
       "      <td>3</td>\n",
       "      <td>0</td>\n",
       "      <td>...</td>\n",
       "      <td>3</td>\n",
       "      <td>8</td>\n",
       "      <td>8</td>\n",
       "      <td>1</td>\n",
       "      <td>3</td>\n",
       "      <td>1</td>\n",
       "      <td>2</td>\n",
       "      <td>8</td>\n",
       "      <td>5</td>\n",
       "      <td>2</td>\n",
       "    </tr>\n",
       "    <tr>\n",
       "      <th>6499</th>\n",
       "      <td>3</td>\n",
       "      <td>4</td>\n",
       "      <td>1</td>\n",
       "      <td>0</td>\n",
       "      <td>7</td>\n",
       "      <td>1</td>\n",
       "      <td>1</td>\n",
       "      <td>1</td>\n",
       "      <td>12</td>\n",
       "      <td>1</td>\n",
       "      <td>...</td>\n",
       "      <td>4</td>\n",
       "      <td>5</td>\n",
       "      <td>5</td>\n",
       "      <td>1</td>\n",
       "      <td>2</td>\n",
       "      <td>1</td>\n",
       "      <td>6</td>\n",
       "      <td>6</td>\n",
       "      <td>2</td>\n",
       "      <td>2</td>\n",
       "    </tr>\n",
       "  </tbody>\n",
       "</table>\n",
       "<p>6500 rows × 22 columns</p>\n",
       "</div>"
      ],
      "text/plain": [
       "     cap-shape cap-surface cap-color bruises odor gill-attachment  \\\n",
       "0            3           4         1       1    8               3   \n",
       "1            3           4        10       1    1               3   \n",
       "2            3           3         9       1    8               3   \n",
       "3            3           4         4       0    7               3   \n",
       "4            3           3        10       1    1               3   \n",
       "...        ...         ...       ...     ...  ...             ...   \n",
       "6495         5           4         8       0    4               3   \n",
       "6496         5           4         1       0    7               1   \n",
       "6497         4           4         1       0    7               1   \n",
       "6498         5           3         1       0    4               3   \n",
       "6499         3           4         1       0    7               1   \n",
       "\n",
       "     gill-spacing gill-size gill-color stalk-shape  ...  \\\n",
       "0               1         0          1           1  ...   \n",
       "1               1         1          1           1  ...   \n",
       "2               1         0          2           1  ...   \n",
       "3               2         1          1           0  ...   \n",
       "4               1         1          2           1  ...   \n",
       "...           ...       ...        ...         ...  ...   \n",
       "6495            1         0          3           0  ...   \n",
       "6496            1         1         12           1  ...   \n",
       "6497            1         1          2           1  ...   \n",
       "6498            1         0          3           0  ...   \n",
       "6499            1         1         12           1  ...   \n",
       "\n",
       "     stalk-surface-below-ring stalk-color-above-ring stalk-color-below-ring  \\\n",
       "0                           4                      8                      8   \n",
       "1                           4                      8                      8   \n",
       "2                           4                      8                      8   \n",
       "3                           4                      8                      8   \n",
       "4                           4                      8                      8   \n",
       "...                       ...                    ...                    ...   \n",
       "6495                        4                      6                      8   \n",
       "6496                        4                      5                      5   \n",
       "6497                        4                      5                      5   \n",
       "6498                        3                      8                      8   \n",
       "6499                        4                      5                      5   \n",
       "\n",
       "     veil-type veil-color ring-number ring-type spore-print-color population  \\\n",
       "0            1          3           1         6                 1          4   \n",
       "1            1          3           1         6                 2          3   \n",
       "2            1          3           1         6                 1          4   \n",
       "3            1          3           1         2                 2          1   \n",
       "4            1          3           1         6                 1          3   \n",
       "...        ...        ...         ...       ...               ...        ...   \n",
       "6495         1          3           1         2                 8          5   \n",
       "6496         1          2           1         6                 3          2   \n",
       "6497         1          2           1         6                 3          2   \n",
       "6498         1          3           1         2                 8          5   \n",
       "6499         1          2           1         6                 6          2   \n",
       "\n",
       "     habitat  \n",
       "0          5  \n",
       "1          1  \n",
       "2          5  \n",
       "3          1  \n",
       "4          1  \n",
       "...      ...  \n",
       "6495       7  \n",
       "6496       2  \n",
       "6497       2  \n",
       "6498       2  \n",
       "6499       2  \n",
       "\n",
       "[6500 rows x 22 columns]"
      ]
     },
     "execution_count": 41,
     "metadata": {},
     "output_type": "execute_result"
    }
   ],
   "source": [
    "pd.DataFrame(x_train, columns=[numerical_dataset.columns[1:]])"
   ]
  },
  {
   "cell_type": "code",
   "execution_count": 42,
   "metadata": {},
   "outputs": [
    {
     "data": {
      "text/html": [
       "<div>\n",
       "<style scoped>\n",
       "    .dataframe tbody tr th:only-of-type {\n",
       "        vertical-align: middle;\n",
       "    }\n",
       "\n",
       "    .dataframe tbody tr th {\n",
       "        vertical-align: top;\n",
       "    }\n",
       "\n",
       "    .dataframe thead th {\n",
       "        text-align: right;\n",
       "    }\n",
       "</style>\n",
       "<table border=\"1\" class=\"dataframe\">\n",
       "  <thead>\n",
       "    <tr style=\"text-align: right;\">\n",
       "      <th></th>\n",
       "      <th>class</th>\n",
       "    </tr>\n",
       "  </thead>\n",
       "  <tbody>\n",
       "    <tr>\n",
       "      <th>0</th>\n",
       "      <td>1</td>\n",
       "    </tr>\n",
       "    <tr>\n",
       "      <th>1</th>\n",
       "      <td>0</td>\n",
       "    </tr>\n",
       "    <tr>\n",
       "      <th>2</th>\n",
       "      <td>1</td>\n",
       "    </tr>\n",
       "    <tr>\n",
       "      <th>3</th>\n",
       "      <td>0</td>\n",
       "    </tr>\n",
       "    <tr>\n",
       "      <th>4</th>\n",
       "      <td>0</td>\n",
       "    </tr>\n",
       "    <tr>\n",
       "      <th>...</th>\n",
       "      <td>...</td>\n",
       "    </tr>\n",
       "    <tr>\n",
       "      <th>6495</th>\n",
       "      <td>1</td>\n",
       "    </tr>\n",
       "    <tr>\n",
       "      <th>6496</th>\n",
       "      <td>0</td>\n",
       "    </tr>\n",
       "    <tr>\n",
       "      <th>6497</th>\n",
       "      <td>0</td>\n",
       "    </tr>\n",
       "    <tr>\n",
       "      <th>6498</th>\n",
       "      <td>1</td>\n",
       "    </tr>\n",
       "    <tr>\n",
       "      <th>6499</th>\n",
       "      <td>0</td>\n",
       "    </tr>\n",
       "  </tbody>\n",
       "</table>\n",
       "<p>6500 rows × 1 columns</p>\n",
       "</div>"
      ],
      "text/plain": [
       "      class\n",
       "0         1\n",
       "1         0\n",
       "2         1\n",
       "3         0\n",
       "4         0\n",
       "...     ...\n",
       "6495      1\n",
       "6496      0\n",
       "6497      0\n",
       "6498      1\n",
       "6499      0\n",
       "\n",
       "[6500 rows x 1 columns]"
      ]
     },
     "execution_count": 42,
     "metadata": {},
     "output_type": "execute_result"
    }
   ],
   "source": [
    "pd.DataFrame(y_train, columns=[numerical_dataset.columns[0]])"
   ]
  },
  {
   "cell_type": "markdown",
   "metadata": {},
   "source": [
    "<b>Model</b>: Decision Tree<br>\n",
    "<b>Criterion</b>: 'gini'<br>\n",
    "<b>Pruning</b>: Yes (max_depth=5)<br>\n",
    "<b>Cross-Validation</b>: KFold (5 folds)<br>\n",
    "<b>Metrics</b>: Accuracy, F1, Precision, Recall<br>"
   ]
  },
  {
   "cell_type": "code",
   "execution_count": 43,
   "metadata": {},
   "outputs": [
    {
     "name": "stdout",
     "output_type": "stream",
     "text": [
      "\u001b[1m\u001b[91mTraining Set\u001b[0m\n",
      "Accuracy:  0.9935376661742984\n",
      "F1 score:  0.9935320448556351\n",
      "Precision score:  0.9933854101045736\n",
      "Recall score:  0.9937618821292775\n",
      "------------------------------\n",
      "\u001b[1m\u001b[94mTesting Set\u001b[0m\n",
      "Accuracy:  0.9923682914820285\n",
      "F1 score:  0.9923621695873484\n",
      "Precision score:  0.9922071392659628\n",
      "Recall score:  0.9926330798479088\n"
     ]
    }
   ],
   "source": [
    "kf = KFold(n_splits=5, shuffle=True, random_state=None)\n",
    "\n",
    "y_true_train = np.array([])\n",
    "y_pred_train = np.array([])\n",
    "\n",
    "y_true_test = np.array([])\n",
    "y_pred_test = np.array([])\n",
    "\n",
    "for train, test in kf.split(numerical_dataset):\n",
    "    x_train, x_test = numerical_dataset.values[train], numerical_dataset.values[test]\n",
    "    \n",
    "    # The target class is in the first column (column 0)\n",
    "    y_train = x_train[:,0]\n",
    "    x_train = x_train[:,1:]\n",
    "    y_test = x_test[:,0]\n",
    "    x_test = x_test[:,1:]\n",
    "    \n",
    "    dtc = DecisionTreeClassifier(criterion='gini', max_depth=5)\n",
    "    # training\n",
    "    dtc.fit(x_train, y_train)\n",
    "    \n",
    "    # predictions for the training set\n",
    "    for indx, input_ in enumerate(x_train):\n",
    "        y_true_train = np.append(y_true_train, y_train[indx])\n",
    "        y_pred_train = np.append(y_pred_train, dtc.predict([input_]))\n",
    "    \n",
    "    # predictions for the testing set\n",
    "    for indx, input_ in enumerate(x_test):\n",
    "        y_true_test = np.append(y_true_test, y_test[indx])\n",
    "        y_pred_test = np.append(y_pred_test, dtc.predict([input_]))\n",
    "    \n",
    "\n",
    "# Evaluating the results\n",
    "\n",
    "print(color_for_print.BOLD + color_for_print.RED + 'Training Set' + color_for_print.END)\n",
    "print('Accuracy: ', accuracy_score(y_true_train, y_pred_train))\n",
    "print('F1 score: ',f1_score(y_true_train, y_pred_train, average='macro'))\n",
    "print('Precision score: ',precision_score(y_true_train, y_pred_train, average='macro'))\n",
    "print('Recall score: ', recall_score(y_true_train, y_pred_train, average='macro'))\n",
    "print(30*'-')\n",
    "print(color_for_print.BOLD + color_for_print.BLUE + 'Testing Set' + color_for_print.END)\n",
    "print('Accuracy: ', accuracy_score(y_true_test, y_pred_test))\n",
    "print('F1 score: ',f1_score(y_true_test, y_pred_test, average='macro'))\n",
    "print('Precision score: ',precision_score(y_true_test, y_pred_test, average='macro'))\n",
    "print('Recall score: ', recall_score(y_true_test, y_pred_test, average='macro'))"
   ]
  },
  {
   "cell_type": "code",
   "execution_count": 45,
   "metadata": {},
   "outputs": [
    {
     "data": {
      "text/plain": [
       "[Text(0.53125, 0.9166666666666666, 'X[19] <= 3.5\\ngini = 0.499\\nsamples = 6500\\nvalue = [3368, 3132]'),\n",
       " Text(0.3125, 0.75, 'X[7] <= 0.5\\ngini = 0.205\\nsamples = 3113\\nvalue = [2752, 361]'),\n",
       " Text(0.25, 0.5833333333333334, 'X[1] <= 2.0\\ngini = 0.36\\nsamples = 472\\nvalue = [111, 361]'),\n",
       " Text(0.125, 0.4166666666666667, 'X[21] <= 6.0\\ngini = 0.496\\nsamples = 171\\nvalue = [93, 78]'),\n",
       " Text(0.0625, 0.25, 'gini = 0.0\\nsamples = 76\\nvalue = [76, 0]'),\n",
       " Text(0.1875, 0.25, 'X[9] <= 0.5\\ngini = 0.294\\nsamples = 95\\nvalue = [17, 78]'),\n",
       " Text(0.125, 0.08333333333333333, 'gini = 0.0\\nsamples = 17\\nvalue = [17, 0]'),\n",
       " Text(0.25, 0.08333333333333333, 'gini = 0.0\\nsamples = 78\\nvalue = [0, 78]'),\n",
       " Text(0.375, 0.4166666666666667, 'X[9] <= 0.5\\ngini = 0.112\\nsamples = 301\\nvalue = [18, 283]'),\n",
       " Text(0.3125, 0.25, 'gini = 0.0\\nsamples = 18\\nvalue = [18, 0]'),\n",
       " Text(0.4375, 0.25, 'gini = 0.0\\nsamples = 283\\nvalue = [0, 283]'),\n",
       " Text(0.375, 0.5833333333333334, 'gini = 0.0\\nsamples = 2641\\nvalue = [2641, 0]'),\n",
       " Text(0.75, 0.75, 'X[17] <= 1.5\\ngini = 0.298\\nsamples = 3387\\nvalue = [616, 2771]'),\n",
       " Text(0.625, 0.5833333333333334, 'X[16] <= 2.5\\ngini = 0.122\\nsamples = 2902\\nvalue = [189, 2713]'),\n",
       " Text(0.5625, 0.4166666666666667, 'gini = 0.0\\nsamples = 75\\nvalue = [75, 0]'),\n",
       " Text(0.6875, 0.4166666666666667, 'X[6] <= 1.5\\ngini = 0.077\\nsamples = 2827\\nvalue = [114, 2713]'),\n",
       " Text(0.5625, 0.25, 'X[12] <= 1.5\\ngini = 0.028\\nsamples = 2740\\nvalue = [39, 2701]'),\n",
       " Text(0.5, 0.08333333333333333, 'gini = 0.367\\nsamples = 161\\nvalue = [39, 122]'),\n",
       " Text(0.625, 0.08333333333333333, 'gini = 0.0\\nsamples = 2579\\nvalue = [0, 2579]'),\n",
       " Text(0.8125, 0.25, 'X[20] <= 3.5\\ngini = 0.238\\nsamples = 87\\nvalue = [75, 12]'),\n",
       " Text(0.75, 0.08333333333333333, 'gini = 0.0\\nsamples = 12\\nvalue = [0, 12]'),\n",
       " Text(0.875, 0.08333333333333333, 'gini = 0.0\\nsamples = 75\\nvalue = [75, 0]'),\n",
       " Text(0.875, 0.5833333333333334, 'X[19] <= 6.5\\ngini = 0.211\\nsamples = 485\\nvalue = [427, 58]'),\n",
       " Text(0.8125, 0.4166666666666667, 'gini = 0.0\\nsamples = 58\\nvalue = [0, 58]'),\n",
       " Text(0.9375, 0.4166666666666667, 'gini = 0.0\\nsamples = 427\\nvalue = [427, 0]')]"
      ]
     },
     "execution_count": 45,
     "metadata": {},
     "output_type": "execute_result"
    },
    {
     "data": {
      "image/png": "[encoded data removed]",
      "text/plain": [
       "<Figure size 432x288 with 1 Axes>"
      ]
     },
     "metadata": {
      "needs_background": "light"
     },
     "output_type": "display_data"
    }
   ],
   "source": [
    "plot_tree(dtc)"
   ]
  },
  {
   "cell_type": "markdown",
   "metadata": {},
   "source": [
    "<b>Model</b>: Decision Tree<br>\n",
    "<b>Criterion</b>: 'entropy'<br>\n",
    "<b>Pruning</b>: Yes (max_depth=3)<br>\n",
    "<b>Cross-Validation</b>: KFold (5 folds)<br>\n",
    "<b>Metrics</b>: Accuracy, F1, Precision, Recall<br>"
   ]
  },
  {
   "cell_type": "code",
   "execution_count": 46,
   "metadata": {},
   "outputs": [
    {
     "name": "stdout",
     "output_type": "stream",
     "text": [
      "\u001b[1m\u001b[91mTraining Set\u001b[0m\n",
      "Accuracy:  0.9645494830132939\n",
      "F1 score:  0.9645494744191458\n",
      "Precision score:  0.9657469077069458\n",
      "Recall score:  0.9657794676806084\n",
      "------------------------------\n",
      "\u001b[1m\u001b[94mTesting Set\u001b[0m\n",
      "Accuracy:  0.9645494830132939\n",
      "F1 score:  0.9645494744191458\n",
      "Precision score:  0.9657469077069458\n",
      "Recall score:  0.9657794676806084\n"
     ]
    }
   ],
   "source": [
    "kf = KFold(n_splits=5, shuffle=True, random_state=None)\n",
    "\n",
    "y_true_train = np.array([])\n",
    "y_pred_train = np.array([])\n",
    "\n",
    "y_true_test = np.array([])\n",
    "y_pred_test = np.array([])\n",
    "\n",
    "for train, test in kf.split(numerical_dataset):\n",
    "    x_train, x_test = numerical_dataset.values[train], numerical_dataset.values[test]\n",
    "    \n",
    "    # The target class is in the first column (column 0)\n",
    "    y_train = x_train[:,0]\n",
    "    x_train = x_train[:,1:]\n",
    "    y_test = x_test[:,0]\n",
    "    x_test = x_test[:,1:]\n",
    "    \n",
    "    dtc = DecisionTreeClassifier(criterion='entropy', max_depth=3)\n",
    "    # training\n",
    "    dtc.fit(x_train, y_train)\n",
    "    \n",
    "    # predictions for the training set\n",
    "    for indx, input_ in enumerate(x_train):\n",
    "        y_true_train = np.append(y_true_train, y_train[indx])\n",
    "        y_pred_train = np.append(y_pred_train, dtc.predict([input_]))\n",
    "    \n",
    "    # predictions for the testing set\n",
    "    for indx, input_ in enumerate(x_test):\n",
    "        y_true_test = np.append(y_true_test, y_test[indx])\n",
    "        y_pred_test = np.append(y_pred_test, dtc.predict([input_]))\n",
    "    \n",
    "\n",
    "# Evaluating the results\n",
    "\n",
    "print(color_for_print.BOLD + color_for_print.RED + 'Training Set' + color_for_print.END)\n",
    "print('Accuracy: ', accuracy_score(y_true_train, y_pred_train))\n",
    "print('F1 score: ',f1_score(y_true_train, y_pred_train, average='macro'))\n",
    "print('Precision score: ',precision_score(y_true_train, y_pred_train, average='macro'))\n",
    "print('Recall score: ', recall_score(y_true_train, y_pred_train, average='macro'))\n",
    "print(30*'-')\n",
    "print(color_for_print.BOLD + color_for_print.BLUE + 'Testing Set' + color_for_print.END)\n",
    "print('Accuracy: ', accuracy_score(y_true_test, y_pred_test))\n",
    "print('F1 score: ',f1_score(y_true_test, y_pred_test, average='macro'))\n",
    "print('Precision score: ',precision_score(y_true_test, y_pred_test, average='macro'))\n",
    "print('Recall score: ', recall_score(y_true_test, y_pred_test, average='macro'))"
   ]
  },
  {
   "cell_type": "markdown",
   "metadata": {},
   "source": [
    "PCA is better with scaled data, but I will assume the risk."
   ]
  },
  {
   "cell_type": "code",
   "execution_count": 47,
   "metadata": {},
   "outputs": [],
   "source": [
    "pca = PCA(n_components=5)"
   ]
  },
  {
   "cell_type": "code",
   "execution_count": 48,
   "metadata": {},
   "outputs": [
    {
     "data": {
      "text/plain": [
       "PCA(n_components=5)"
      ]
     },
     "execution_count": 48,
     "metadata": {},
     "output_type": "execute_result"
    }
   ],
   "source": [
    "pca.fit(numerical_dataset.iloc[:,1:])"
   ]
  },
  {
   "cell_type": "code",
   "execution_count": 49,
   "metadata": {},
   "outputs": [
    {
     "name": "stdout",
     "output_type": "stream",
     "text": [
      "[0.27275304 0.19272019 0.13382131 0.13068795 0.08423647]\n"
     ]
    }
   ],
   "source": [
    "print(pca.explained_variance_ratio_)"
   ]
  },
  {
   "cell_type": "code",
   "execution_count": 50,
   "metadata": {},
   "outputs": [],
   "source": [
    "components_pca = pd.DataFrame(pca.components_, columns=[numerical_dataset.columns[1:]])"
   ]
  },
  {
   "cell_type": "code",
   "execution_count": 51,
   "metadata": {},
   "outputs": [
    {
     "data": {
      "text/html": [
       "<div>\n",
       "<style scoped>\n",
       "    .dataframe tbody tr th:only-of-type {\n",
       "        vertical-align: middle;\n",
       "    }\n",
       "\n",
       "    .dataframe tbody tr th {\n",
       "        vertical-align: top;\n",
       "    }\n",
       "\n",
       "    .dataframe thead tr th {\n",
       "        text-align: left;\n",
       "    }\n",
       "</style>\n",
       "<table border=\"1\" class=\"dataframe\">\n",
       "  <thead>\n",
       "    <tr>\n",
       "      <th></th>\n",
       "      <th>cap-shape</th>\n",
       "      <th>cap-surface</th>\n",
       "      <th>cap-color</th>\n",
       "      <th>bruises</th>\n",
       "      <th>odor</th>\n",
       "      <th>gill-attachment</th>\n",
       "      <th>gill-spacing</th>\n",
       "      <th>gill-size</th>\n",
       "      <th>gill-color</th>\n",
       "      <th>stalk-shape</th>\n",
       "      <th>...</th>\n",
       "      <th>stalk-surface-below-ring</th>\n",
       "      <th>stalk-color-above-ring</th>\n",
       "      <th>stalk-color-below-ring</th>\n",
       "      <th>veil-type</th>\n",
       "      <th>veil-color</th>\n",
       "      <th>ring-number</th>\n",
       "      <th>ring-type</th>\n",
       "      <th>spore-print-color</th>\n",
       "      <th>population</th>\n",
       "      <th>habitat</th>\n",
       "    </tr>\n",
       "  </thead>\n",
       "  <tbody>\n",
       "    <tr>\n",
       "      <th>0</th>\n",
       "      <td>0.049625</td>\n",
       "      <td>0.109271</td>\n",
       "      <td>-0.210980</td>\n",
       "      <td>-0.064222</td>\n",
       "      <td>0.063452</td>\n",
       "      <td>-0.005623</td>\n",
       "      <td>0.013729</td>\n",
       "      <td>-0.065590</td>\n",
       "      <td>-0.460762</td>\n",
       "      <td>-0.026396</td>\n",
       "      <td>...</td>\n",
       "      <td>-0.026353</td>\n",
       "      <td>0.165620</td>\n",
       "      <td>0.166559</td>\n",
       "      <td>-0.0</td>\n",
       "      <td>-0.004758</td>\n",
       "      <td>0.009412</td>\n",
       "      <td>-0.304152</td>\n",
       "      <td>0.468567</td>\n",
       "      <td>-0.078361</td>\n",
       "      <td>-0.214775</td>\n",
       "    </tr>\n",
       "    <tr>\n",
       "      <th>1</th>\n",
       "      <td>-0.052749</td>\n",
       "      <td>0.022767</td>\n",
       "      <td>0.855211</td>\n",
       "      <td>-0.012991</td>\n",
       "      <td>-0.253286</td>\n",
       "      <td>0.016968</td>\n",
       "      <td>0.011554</td>\n",
       "      <td>0.001437</td>\n",
       "      <td>-0.363370</td>\n",
       "      <td>0.030171</td>\n",
       "      <td>...</td>\n",
       "      <td>-0.024589</td>\n",
       "      <td>0.032340</td>\n",
       "      <td>0.053306</td>\n",
       "      <td>0.0</td>\n",
       "      <td>0.011821</td>\n",
       "      <td>-0.005794</td>\n",
       "      <td>-0.023327</td>\n",
       "      <td>-0.058971</td>\n",
       "      <td>-0.045657</td>\n",
       "      <td>-0.234615</td>\n",
       "    </tr>\n",
       "    <tr>\n",
       "      <th>2</th>\n",
       "      <td>-0.021807</td>\n",
       "      <td>0.092031</td>\n",
       "      <td>0.258614</td>\n",
       "      <td>0.022375</td>\n",
       "      <td>-0.013234</td>\n",
       "      <td>-0.005917</td>\n",
       "      <td>0.022867</td>\n",
       "      <td>-0.006599</td>\n",
       "      <td>0.752810</td>\n",
       "      <td>0.022088</td>\n",
       "      <td>...</td>\n",
       "      <td>-0.000564</td>\n",
       "      <td>0.306142</td>\n",
       "      <td>0.286642</td>\n",
       "      <td>-0.0</td>\n",
       "      <td>-0.002658</td>\n",
       "      <td>0.040903</td>\n",
       "      <td>0.029782</td>\n",
       "      <td>0.232215</td>\n",
       "      <td>-0.135849</td>\n",
       "      <td>-0.166390</td>\n",
       "    </tr>\n",
       "    <tr>\n",
       "      <th>3</th>\n",
       "      <td>0.069116</td>\n",
       "      <td>-0.026920</td>\n",
       "      <td>0.259391</td>\n",
       "      <td>-0.064298</td>\n",
       "      <td>0.051571</td>\n",
       "      <td>-0.004313</td>\n",
       "      <td>-0.042815</td>\n",
       "      <td>-0.023594</td>\n",
       "      <td>0.183298</td>\n",
       "      <td>0.024427</td>\n",
       "      <td>...</td>\n",
       "      <td>-0.010137</td>\n",
       "      <td>-0.451955</td>\n",
       "      <td>-0.487464</td>\n",
       "      <td>-0.0</td>\n",
       "      <td>-0.000692</td>\n",
       "      <td>0.005645</td>\n",
       "      <td>-0.174901</td>\n",
       "      <td>0.560259</td>\n",
       "      <td>0.162333</td>\n",
       "      <td>0.256040</td>\n",
       "    </tr>\n",
       "    <tr>\n",
       "      <th>4</th>\n",
       "      <td>-0.041886</td>\n",
       "      <td>-0.019049</td>\n",
       "      <td>-0.180093</td>\n",
       "      <td>-0.064869</td>\n",
       "      <td>-0.057538</td>\n",
       "      <td>-0.027819</td>\n",
       "      <td>0.038827</td>\n",
       "      <td>0.071839</td>\n",
       "      <td>0.147453</td>\n",
       "      <td>0.075727</td>\n",
       "      <td>...</td>\n",
       "      <td>-0.124575</td>\n",
       "      <td>-0.271313</td>\n",
       "      <td>-0.319545</td>\n",
       "      <td>-0.0</td>\n",
       "      <td>-0.019913</td>\n",
       "      <td>0.003900</td>\n",
       "      <td>-0.077605</td>\n",
       "      <td>-0.062473</td>\n",
       "      <td>-0.131581</td>\n",
       "      <td>-0.823815</td>\n",
       "    </tr>\n",
       "  </tbody>\n",
       "</table>\n",
       "<p>5 rows × 22 columns</p>\n",
       "</div>"
      ],
      "text/plain": [
       "  cap-shape cap-surface cap-color   bruises      odor gill-attachment  \\\n",
       "0  0.049625    0.109271 -0.210980 -0.064222  0.063452       -0.005623   \n",
       "1 -0.052749    0.022767  0.855211 -0.012991 -0.253286        0.016968   \n",
       "2 -0.021807    0.092031  0.258614  0.022375 -0.013234       -0.005917   \n",
       "3  0.069116   -0.026920  0.259391 -0.064298  0.051571       -0.004313   \n",
       "4 -0.041886   -0.019049 -0.180093 -0.064869 -0.057538       -0.027819   \n",
       "\n",
       "  gill-spacing gill-size gill-color stalk-shape  ... stalk-surface-below-ring  \\\n",
       "0     0.013729 -0.065590  -0.460762   -0.026396  ...                -0.026353   \n",
       "1     0.011554  0.001437  -0.363370    0.030171  ...                -0.024589   \n",
       "2     0.022867 -0.006599   0.752810    0.022088  ...                -0.000564   \n",
       "3    -0.042815 -0.023594   0.183298    0.024427  ...                -0.010137   \n",
       "4     0.038827  0.071839   0.147453    0.075727  ...                -0.124575   \n",
       "\n",
       "  stalk-color-above-ring stalk-color-below-ring veil-type veil-color  \\\n",
       "0               0.165620               0.166559      -0.0  -0.004758   \n",
       "1               0.032340               0.053306       0.0   0.011821   \n",
       "2               0.306142               0.286642      -0.0  -0.002658   \n",
       "3              -0.451955              -0.487464      -0.0  -0.000692   \n",
       "4              -0.271313              -0.319545      -0.0  -0.019913   \n",
       "\n",
       "  ring-number ring-type spore-print-color population   habitat  \n",
       "0    0.009412 -0.304152          0.468567  -0.078361 -0.214775  \n",
       "1   -0.005794 -0.023327         -0.058971  -0.045657 -0.234615  \n",
       "2    0.040903  0.029782          0.232215  -0.135849 -0.166390  \n",
       "3    0.005645 -0.174901          0.560259   0.162333  0.256040  \n",
       "4    0.003900 -0.077605         -0.062473  -0.131581 -0.823815  \n",
       "\n",
       "[5 rows x 22 columns]"
      ]
     },
     "execution_count": 51,
     "metadata": {},
     "output_type": "execute_result"
    }
   ],
   "source": [
    "components_pca.head()"
   ]
  },
  {
   "cell_type": "code",
   "execution_count": 52,
   "metadata": {},
   "outputs": [
    {
     "data": {
      "text/html": [
       "<div>\n",
       "<style scoped>\n",
       "    .dataframe tbody tr th:only-of-type {\n",
       "        vertical-align: middle;\n",
       "    }\n",
       "\n",
       "    .dataframe tbody tr th {\n",
       "        vertical-align: top;\n",
       "    }\n",
       "\n",
       "    .dataframe thead tr th {\n",
       "        text-align: left;\n",
       "    }\n",
       "</style>\n",
       "<table border=\"1\" class=\"dataframe\">\n",
       "  <thead>\n",
       "    <tr>\n",
       "      <th></th>\n",
       "      <th>cap-shape</th>\n",
       "      <th>cap-surface</th>\n",
       "      <th>cap-color</th>\n",
       "      <th>bruises</th>\n",
       "      <th>odor</th>\n",
       "      <th>gill-attachment</th>\n",
       "      <th>gill-spacing</th>\n",
       "      <th>gill-size</th>\n",
       "      <th>gill-color</th>\n",
       "      <th>stalk-shape</th>\n",
       "      <th>stalk-root</th>\n",
       "    </tr>\n",
       "  </thead>\n",
       "  <tbody>\n",
       "    <tr>\n",
       "      <th>0</th>\n",
       "      <td>0.049625</td>\n",
       "      <td>0.109271</td>\n",
       "      <td>-0.210980</td>\n",
       "      <td>-0.064222</td>\n",
       "      <td>0.063452</td>\n",
       "      <td>-0.005623</td>\n",
       "      <td>0.013729</td>\n",
       "      <td>-0.065590</td>\n",
       "      <td>-0.460762</td>\n",
       "      <td>-0.026396</td>\n",
       "      <td>0.542574</td>\n",
       "    </tr>\n",
       "    <tr>\n",
       "      <th>1</th>\n",
       "      <td>-0.052749</td>\n",
       "      <td>0.022767</td>\n",
       "      <td>0.855211</td>\n",
       "      <td>-0.012991</td>\n",
       "      <td>-0.253286</td>\n",
       "      <td>0.016968</td>\n",
       "      <td>0.011554</td>\n",
       "      <td>0.001437</td>\n",
       "      <td>-0.363370</td>\n",
       "      <td>0.030171</td>\n",
       "      <td>-0.036126</td>\n",
       "    </tr>\n",
       "    <tr>\n",
       "      <th>2</th>\n",
       "      <td>-0.021807</td>\n",
       "      <td>0.092031</td>\n",
       "      <td>0.258614</td>\n",
       "      <td>0.022375</td>\n",
       "      <td>-0.013234</td>\n",
       "      <td>-0.005917</td>\n",
       "      <td>0.022867</td>\n",
       "      <td>-0.006599</td>\n",
       "      <td>0.752810</td>\n",
       "      <td>0.022088</td>\n",
       "      <td>0.276786</td>\n",
       "    </tr>\n",
       "    <tr>\n",
       "      <th>3</th>\n",
       "      <td>0.069116</td>\n",
       "      <td>-0.026920</td>\n",
       "      <td>0.259391</td>\n",
       "      <td>-0.064298</td>\n",
       "      <td>0.051571</td>\n",
       "      <td>-0.004313</td>\n",
       "      <td>-0.042815</td>\n",
       "      <td>-0.023594</td>\n",
       "      <td>0.183298</td>\n",
       "      <td>0.024427</td>\n",
       "      <td>0.070189</td>\n",
       "    </tr>\n",
       "    <tr>\n",
       "      <th>4</th>\n",
       "      <td>-0.041886</td>\n",
       "      <td>-0.019049</td>\n",
       "      <td>-0.180093</td>\n",
       "      <td>-0.064869</td>\n",
       "      <td>-0.057538</td>\n",
       "      <td>-0.027819</td>\n",
       "      <td>0.038827</td>\n",
       "      <td>0.071839</td>\n",
       "      <td>0.147453</td>\n",
       "      <td>0.075727</td>\n",
       "      <td>-0.093419</td>\n",
       "    </tr>\n",
       "  </tbody>\n",
       "</table>\n",
       "</div>"
      ],
      "text/plain": [
       "  cap-shape cap-surface cap-color   bruises      odor gill-attachment  \\\n",
       "0  0.049625    0.109271 -0.210980 -0.064222  0.063452       -0.005623   \n",
       "1 -0.052749    0.022767  0.855211 -0.012991 -0.253286        0.016968   \n",
       "2 -0.021807    0.092031  0.258614  0.022375 -0.013234       -0.005917   \n",
       "3  0.069116   -0.026920  0.259391 -0.064298  0.051571       -0.004313   \n",
       "4 -0.041886   -0.019049 -0.180093 -0.064869 -0.057538       -0.027819   \n",
       "\n",
       "  gill-spacing gill-size gill-color stalk-shape stalk-root  \n",
       "0     0.013729 -0.065590  -0.460762   -0.026396   0.542574  \n",
       "1     0.011554  0.001437  -0.363370    0.030171  -0.036126  \n",
       "2     0.022867 -0.006599   0.752810    0.022088   0.276786  \n",
       "3    -0.042815 -0.023594   0.183298    0.024427   0.070189  \n",
       "4     0.038827  0.071839   0.147453    0.075727  -0.093419  "
      ]
     },
     "execution_count": 52,
     "metadata": {},
     "output_type": "execute_result"
    }
   ],
   "source": [
    "components_pca.iloc[:,0:11]"
   ]
  },
  {
   "cell_type": "code",
   "execution_count": 53,
   "metadata": {},
   "outputs": [
    {
     "data": {
      "text/html": [
       "<div>\n",
       "<style scoped>\n",
       "    .dataframe tbody tr th:only-of-type {\n",
       "        vertical-align: middle;\n",
       "    }\n",
       "\n",
       "    .dataframe tbody tr th {\n",
       "        vertical-align: top;\n",
       "    }\n",
       "\n",
       "    .dataframe thead tr th {\n",
       "        text-align: left;\n",
       "    }\n",
       "</style>\n",
       "<table border=\"1\" class=\"dataframe\">\n",
       "  <thead>\n",
       "    <tr>\n",
       "      <th></th>\n",
       "      <th>stalk-surface-above-ring</th>\n",
       "      <th>stalk-surface-below-ring</th>\n",
       "      <th>stalk-color-above-ring</th>\n",
       "      <th>stalk-color-below-ring</th>\n",
       "      <th>veil-type</th>\n",
       "      <th>veil-color</th>\n",
       "      <th>ring-number</th>\n",
       "      <th>ring-type</th>\n",
       "      <th>spore-print-color</th>\n",
       "      <th>population</th>\n",
       "      <th>habitat</th>\n",
       "    </tr>\n",
       "  </thead>\n",
       "  <tbody>\n",
       "    <tr>\n",
       "      <th>0</th>\n",
       "      <td>-0.026789</td>\n",
       "      <td>-0.026353</td>\n",
       "      <td>0.165620</td>\n",
       "      <td>0.166559</td>\n",
       "      <td>-0.0</td>\n",
       "      <td>-0.004758</td>\n",
       "      <td>0.009412</td>\n",
       "      <td>-0.304152</td>\n",
       "      <td>0.468567</td>\n",
       "      <td>-0.078361</td>\n",
       "      <td>-0.214775</td>\n",
       "    </tr>\n",
       "    <tr>\n",
       "      <th>1</th>\n",
       "      <td>-0.022325</td>\n",
       "      <td>-0.024589</td>\n",
       "      <td>0.032340</td>\n",
       "      <td>0.053306</td>\n",
       "      <td>0.0</td>\n",
       "      <td>0.011821</td>\n",
       "      <td>-0.005794</td>\n",
       "      <td>-0.023327</td>\n",
       "      <td>-0.058971</td>\n",
       "      <td>-0.045657</td>\n",
       "      <td>-0.234615</td>\n",
       "    </tr>\n",
       "    <tr>\n",
       "      <th>2</th>\n",
       "      <td>0.023610</td>\n",
       "      <td>-0.000564</td>\n",
       "      <td>0.306142</td>\n",
       "      <td>0.286642</td>\n",
       "      <td>-0.0</td>\n",
       "      <td>-0.002658</td>\n",
       "      <td>0.040903</td>\n",
       "      <td>0.029782</td>\n",
       "      <td>0.232215</td>\n",
       "      <td>-0.135849</td>\n",
       "      <td>-0.166390</td>\n",
       "    </tr>\n",
       "    <tr>\n",
       "      <th>3</th>\n",
       "      <td>-0.021971</td>\n",
       "      <td>-0.010137</td>\n",
       "      <td>-0.451955</td>\n",
       "      <td>-0.487464</td>\n",
       "      <td>-0.0</td>\n",
       "      <td>-0.000692</td>\n",
       "      <td>0.005645</td>\n",
       "      <td>-0.174901</td>\n",
       "      <td>0.560259</td>\n",
       "      <td>0.162333</td>\n",
       "      <td>0.256040</td>\n",
       "    </tr>\n",
       "    <tr>\n",
       "      <th>4</th>\n",
       "      <td>-0.129318</td>\n",
       "      <td>-0.124575</td>\n",
       "      <td>-0.271313</td>\n",
       "      <td>-0.319545</td>\n",
       "      <td>-0.0</td>\n",
       "      <td>-0.019913</td>\n",
       "      <td>0.003900</td>\n",
       "      <td>-0.077605</td>\n",
       "      <td>-0.062473</td>\n",
       "      <td>-0.131581</td>\n",
       "      <td>-0.823815</td>\n",
       "    </tr>\n",
       "  </tbody>\n",
       "</table>\n",
       "</div>"
      ],
      "text/plain": [
       "  stalk-surface-above-ring stalk-surface-below-ring stalk-color-above-ring  \\\n",
       "0                -0.026789                -0.026353               0.165620   \n",
       "1                -0.022325                -0.024589               0.032340   \n",
       "2                 0.023610                -0.000564               0.306142   \n",
       "3                -0.021971                -0.010137              -0.451955   \n",
       "4                -0.129318                -0.124575              -0.271313   \n",
       "\n",
       "  stalk-color-below-ring veil-type veil-color ring-number ring-type  \\\n",
       "0               0.166559      -0.0  -0.004758    0.009412 -0.304152   \n",
       "1               0.053306       0.0   0.011821   -0.005794 -0.023327   \n",
       "2               0.286642      -0.0  -0.002658    0.040903  0.029782   \n",
       "3              -0.487464      -0.0  -0.000692    0.005645 -0.174901   \n",
       "4              -0.319545      -0.0  -0.019913    0.003900 -0.077605   \n",
       "\n",
       "  spore-print-color population   habitat  \n",
       "0          0.468567  -0.078361 -0.214775  \n",
       "1         -0.058971  -0.045657 -0.234615  \n",
       "2          0.232215  -0.135849 -0.166390  \n",
       "3          0.560259   0.162333  0.256040  \n",
       "4         -0.062473  -0.131581 -0.823815  "
      ]
     },
     "execution_count": 53,
     "metadata": {},
     "output_type": "execute_result"
    }
   ],
   "source": [
    "components_pca.iloc[:,11:]"
   ]
  },
  {
   "cell_type": "code",
   "execution_count": 54,
   "metadata": {},
   "outputs": [
    {
     "data": {
      "text/plain": [
       "0.9999999999999992"
      ]
     },
     "execution_count": 54,
     "metadata": {},
     "output_type": "execute_result"
    }
   ],
   "source": [
    "np.linalg.norm(components_pca.iloc[0,:])"
   ]
  },
  {
   "cell_type": "code",
   "execution_count": 55,
   "metadata": {},
   "outputs": [],
   "source": [
    "# let's try droping the columns gill-attachment, gill-spacing, gill-size, stalk-shape, veil-type, veil-color,\n",
    "# ring-number\n",
    "numerical_dataset = numerical_dataset.drop(labels=['gill-attachment', 'gill-spacing', 'gill-size', 'stalk-shape',\\\n",
    "                               'veil-type', 'veil-color', 'ring-number'], axis=1)"
   ]
  },
  {
   "cell_type": "code",
   "execution_count": 56,
   "metadata": {},
   "outputs": [
    {
     "data": {
      "text/html": [
       "<div>\n",
       "<style scoped>\n",
       "    .dataframe tbody tr th:only-of-type {\n",
       "        vertical-align: middle;\n",
       "    }\n",
       "\n",
       "    .dataframe tbody tr th {\n",
       "        vertical-align: top;\n",
       "    }\n",
       "\n",
       "    .dataframe thead th {\n",
       "        text-align: right;\n",
       "    }\n",
       "</style>\n",
       "<table border=\"1\" class=\"dataframe\">\n",
       "  <thead>\n",
       "    <tr style=\"text-align: right;\">\n",
       "      <th></th>\n",
       "      <th>class</th>\n",
       "      <th>cap-shape</th>\n",
       "      <th>cap-surface</th>\n",
       "      <th>cap-color</th>\n",
       "      <th>bruises</th>\n",
       "      <th>odor</th>\n",
       "      <th>gill-color</th>\n",
       "      <th>stalk-root</th>\n",
       "      <th>stalk-surface-above-ring</th>\n",
       "      <th>stalk-surface-below-ring</th>\n",
       "      <th>stalk-color-above-ring</th>\n",
       "      <th>stalk-color-below-ring</th>\n",
       "      <th>ring-type</th>\n",
       "      <th>spore-print-color</th>\n",
       "      <th>population</th>\n",
       "      <th>habitat</th>\n",
       "    </tr>\n",
       "  </thead>\n",
       "  <tbody>\n",
       "    <tr>\n",
       "      <th>0</th>\n",
       "      <td>1</td>\n",
       "      <td>3</td>\n",
       "      <td>4</td>\n",
       "      <td>1</td>\n",
       "      <td>1</td>\n",
       "      <td>8</td>\n",
       "      <td>1</td>\n",
       "      <td>4</td>\n",
       "      <td>4</td>\n",
       "      <td>4</td>\n",
       "      <td>8</td>\n",
       "      <td>8</td>\n",
       "      <td>6</td>\n",
       "      <td>1</td>\n",
       "      <td>4</td>\n",
       "      <td>5</td>\n",
       "    </tr>\n",
       "    <tr>\n",
       "      <th>1</th>\n",
       "      <td>0</td>\n",
       "      <td>3</td>\n",
       "      <td>4</td>\n",
       "      <td>10</td>\n",
       "      <td>1</td>\n",
       "      <td>1</td>\n",
       "      <td>1</td>\n",
       "      <td>2</td>\n",
       "      <td>4</td>\n",
       "      <td>4</td>\n",
       "      <td>8</td>\n",
       "      <td>8</td>\n",
       "      <td>6</td>\n",
       "      <td>2</td>\n",
       "      <td>3</td>\n",
       "      <td>1</td>\n",
       "    </tr>\n",
       "    <tr>\n",
       "      <th>2</th>\n",
       "      <td>0</td>\n",
       "      <td>1</td>\n",
       "      <td>4</td>\n",
       "      <td>9</td>\n",
       "      <td>1</td>\n",
       "      <td>2</td>\n",
       "      <td>2</td>\n",
       "      <td>2</td>\n",
       "      <td>4</td>\n",
       "      <td>4</td>\n",
       "      <td>8</td>\n",
       "      <td>8</td>\n",
       "      <td>6</td>\n",
       "      <td>2</td>\n",
       "      <td>3</td>\n",
       "      <td>3</td>\n",
       "    </tr>\n",
       "    <tr>\n",
       "      <th>3</th>\n",
       "      <td>1</td>\n",
       "      <td>3</td>\n",
       "      <td>3</td>\n",
       "      <td>9</td>\n",
       "      <td>1</td>\n",
       "      <td>8</td>\n",
       "      <td>2</td>\n",
       "      <td>4</td>\n",
       "      <td>4</td>\n",
       "      <td>4</td>\n",
       "      <td>8</td>\n",
       "      <td>8</td>\n",
       "      <td>6</td>\n",
       "      <td>1</td>\n",
       "      <td>4</td>\n",
       "      <td>5</td>\n",
       "    </tr>\n",
       "    <tr>\n",
       "      <th>4</th>\n",
       "      <td>0</td>\n",
       "      <td>3</td>\n",
       "      <td>4</td>\n",
       "      <td>4</td>\n",
       "      <td>0</td>\n",
       "      <td>7</td>\n",
       "      <td>1</td>\n",
       "      <td>4</td>\n",
       "      <td>4</td>\n",
       "      <td>4</td>\n",
       "      <td>8</td>\n",
       "      <td>8</td>\n",
       "      <td>2</td>\n",
       "      <td>2</td>\n",
       "      <td>1</td>\n",
       "      <td>1</td>\n",
       "    </tr>\n",
       "  </tbody>\n",
       "</table>\n",
       "</div>"
      ],
      "text/plain": [
       "   class  cap-shape  cap-surface  cap-color  bruises  odor  gill-color  \\\n",
       "0      1          3            4          1        1     8           1   \n",
       "1      0          3            4         10        1     1           1   \n",
       "2      0          1            4          9        1     2           2   \n",
       "3      1          3            3          9        1     8           2   \n",
       "4      0          3            4          4        0     7           1   \n",
       "\n",
       "   stalk-root  stalk-surface-above-ring  stalk-surface-below-ring  \\\n",
       "0           4                         4                         4   \n",
       "1           2                         4                         4   \n",
       "2           2                         4                         4   \n",
       "3           4                         4                         4   \n",
       "4           4                         4                         4   \n",
       "\n",
       "   stalk-color-above-ring  stalk-color-below-ring  ring-type  \\\n",
       "0                       8                       8          6   \n",
       "1                       8                       8          6   \n",
       "2                       8                       8          6   \n",
       "3                       8                       8          6   \n",
       "4                       8                       8          2   \n",
       "\n",
       "   spore-print-color  population  habitat  \n",
       "0                  1           4        5  \n",
       "1                  2           3        1  \n",
       "2                  2           3        3  \n",
       "3                  1           4        5  \n",
       "4                  2           1        1  "
      ]
     },
     "execution_count": 56,
     "metadata": {},
     "output_type": "execute_result"
    }
   ],
   "source": [
    "numerical_dataset.head()"
   ]
  },
  {
   "cell_type": "markdown",
   "metadata": {},
   "source": [
    "<b>Model</b>: Decision Tree<br>\n",
    "<b>Criterion</b>: 'gini'<br>\n",
    "<b>Pruning</b>: Yes (max_depth=5)<br>\n",
    "<b>Cross-Validation</b>: KFold (5 folds)<br>\n",
    "<b>Metrics</b>: Accuracy, F1, Precision, Recall<br>"
   ]
  },
  {
   "cell_type": "code",
   "execution_count": 57,
   "metadata": {},
   "outputs": [
    {
     "name": "stdout",
     "output_type": "stream",
     "text": [
      "\u001b[1m\u001b[91mTraining Set\u001b[0m\n",
      "Accuracy:  0.9931683899556869\n",
      "F1 score:  0.9931625954854685\n",
      "Precision score:  0.9930127155986403\n",
      "Recall score:  0.9934054182509506\n",
      "------------------------------\n",
      "\u001b[1m\u001b[94mTesting Set\u001b[0m\n",
      "Accuracy:  0.9928606597735106\n",
      "F1 score:  0.9928547317430899\n",
      "Precision score:  0.9927025666834424\n",
      "Recall score:  0.9931083650190113\n"
     ]
    }
   ],
   "source": [
    "kf = KFold(n_splits=5, shuffle=True, random_state=None)\n",
    "\n",
    "y_true_train = np.array([])\n",
    "y_pred_train = np.array([])\n",
    "\n",
    "y_true_test = np.array([])\n",
    "y_pred_test = np.array([])\n",
    "\n",
    "for train, test in kf.split(numerical_dataset):\n",
    "    x_train, x_test = numerical_dataset.values[train], numerical_dataset.values[test]\n",
    "    \n",
    "    # The target class is in the first column (column 0)\n",
    "    y_train = x_train[:,0]\n",
    "    x_train = x_train[:,1:]\n",
    "    y_test = x_test[:,0]\n",
    "    x_test = x_test[:,1:]\n",
    "    \n",
    "    dtc = DecisionTreeClassifier(criterion='gini', max_depth=5)\n",
    "    # training\n",
    "    dtc.fit(x_train, y_train)\n",
    "    \n",
    "    # predictions for the training set\n",
    "    for indx, input_ in enumerate(x_train):\n",
    "        y_true_train = np.append(y_true_train, y_train[indx])\n",
    "        y_pred_train = np.append(y_pred_train, dtc.predict([input_]))\n",
    "    \n",
    "    # predictions for the testing set\n",
    "    for indx, input_ in enumerate(x_test):\n",
    "        y_true_test = np.append(y_true_test, y_test[indx])\n",
    "        y_pred_test = np.append(y_pred_test, dtc.predict([input_]))\n",
    "    \n",
    "\n",
    "# Evaluating the results\n",
    "\n",
    "print(color_for_print.BOLD + color_for_print.RED + 'Training Set' + color_for_print.END)\n",
    "print('Accuracy: ', accuracy_score(y_true_train, y_pred_train))\n",
    "print('F1 score: ',f1_score(y_true_train, y_pred_train, average='macro'))\n",
    "print('Precision score: ',precision_score(y_true_train, y_pred_train, average='macro'))\n",
    "print('Recall score: ', recall_score(y_true_train, y_pred_train, average='macro'))\n",
    "print(30*'-')\n",
    "print(color_for_print.BOLD + color_for_print.BLUE + 'Testing Set' + color_for_print.END)\n",
    "print('Accuracy: ', accuracy_score(y_true_test, y_pred_test))\n",
    "print('F1 score: ',f1_score(y_true_test, y_pred_test, average='macro'))\n",
    "print('Precision score: ',precision_score(y_true_test, y_pred_test, average='macro'))\n",
    "print('Recall score: ', recall_score(y_true_test, y_pred_test, average='macro'))"
   ]
  },
  {
   "cell_type": "markdown",
   "metadata": {},
   "source": [
    "The metrics are almost the same!"
   ]
  },
  {
   "cell_type": "code",
   "execution_count": 58,
   "metadata": {},
   "outputs": [
    {
     "data": {
      "text/html": [
       "<div>\n",
       "<style scoped>\n",
       "    .dataframe tbody tr th:only-of-type {\n",
       "        vertical-align: middle;\n",
       "    }\n",
       "\n",
       "    .dataframe tbody tr th {\n",
       "        vertical-align: top;\n",
       "    }\n",
       "\n",
       "    .dataframe thead th {\n",
       "        text-align: right;\n",
       "    }\n",
       "</style>\n",
       "<table border=\"1\" class=\"dataframe\">\n",
       "  <thead>\n",
       "    <tr style=\"text-align: right;\">\n",
       "      <th></th>\n",
       "      <th>class</th>\n",
       "      <th>cap-shape</th>\n",
       "      <th>cap-surface</th>\n",
       "      <th>cap-color</th>\n",
       "      <th>bruises</th>\n",
       "      <th>odor</th>\n",
       "      <th>gill-color</th>\n",
       "      <th>stalk-root</th>\n",
       "      <th>stalk-surface-above-ring</th>\n",
       "      <th>stalk-surface-below-ring</th>\n",
       "      <th>stalk-color-above-ring</th>\n",
       "      <th>stalk-color-below-ring</th>\n",
       "      <th>ring-type</th>\n",
       "      <th>spore-print-color</th>\n",
       "      <th>population</th>\n",
       "      <th>habitat</th>\n",
       "    </tr>\n",
       "  </thead>\n",
       "  <tbody>\n",
       "    <tr>\n",
       "      <th>0</th>\n",
       "      <td>1</td>\n",
       "      <td>3</td>\n",
       "      <td>4</td>\n",
       "      <td>1</td>\n",
       "      <td>1</td>\n",
       "      <td>8</td>\n",
       "      <td>1</td>\n",
       "      <td>4</td>\n",
       "      <td>4</td>\n",
       "      <td>4</td>\n",
       "      <td>8</td>\n",
       "      <td>8</td>\n",
       "      <td>6</td>\n",
       "      <td>1</td>\n",
       "      <td>4</td>\n",
       "      <td>5</td>\n",
       "    </tr>\n",
       "    <tr>\n",
       "      <th>1</th>\n",
       "      <td>0</td>\n",
       "      <td>3</td>\n",
       "      <td>4</td>\n",
       "      <td>10</td>\n",
       "      <td>1</td>\n",
       "      <td>1</td>\n",
       "      <td>1</td>\n",
       "      <td>2</td>\n",
       "      <td>4</td>\n",
       "      <td>4</td>\n",
       "      <td>8</td>\n",
       "      <td>8</td>\n",
       "      <td>6</td>\n",
       "      <td>2</td>\n",
       "      <td>3</td>\n",
       "      <td>1</td>\n",
       "    </tr>\n",
       "    <tr>\n",
       "      <th>2</th>\n",
       "      <td>0</td>\n",
       "      <td>1</td>\n",
       "      <td>4</td>\n",
       "      <td>9</td>\n",
       "      <td>1</td>\n",
       "      <td>2</td>\n",
       "      <td>2</td>\n",
       "      <td>2</td>\n",
       "      <td>4</td>\n",
       "      <td>4</td>\n",
       "      <td>8</td>\n",
       "      <td>8</td>\n",
       "      <td>6</td>\n",
       "      <td>2</td>\n",
       "      <td>3</td>\n",
       "      <td>3</td>\n",
       "    </tr>\n",
       "    <tr>\n",
       "      <th>3</th>\n",
       "      <td>1</td>\n",
       "      <td>3</td>\n",
       "      <td>3</td>\n",
       "      <td>9</td>\n",
       "      <td>1</td>\n",
       "      <td>8</td>\n",
       "      <td>2</td>\n",
       "      <td>4</td>\n",
       "      <td>4</td>\n",
       "      <td>4</td>\n",
       "      <td>8</td>\n",
       "      <td>8</td>\n",
       "      <td>6</td>\n",
       "      <td>1</td>\n",
       "      <td>4</td>\n",
       "      <td>5</td>\n",
       "    </tr>\n",
       "    <tr>\n",
       "      <th>4</th>\n",
       "      <td>0</td>\n",
       "      <td>3</td>\n",
       "      <td>4</td>\n",
       "      <td>4</td>\n",
       "      <td>0</td>\n",
       "      <td>7</td>\n",
       "      <td>1</td>\n",
       "      <td>4</td>\n",
       "      <td>4</td>\n",
       "      <td>4</td>\n",
       "      <td>8</td>\n",
       "      <td>8</td>\n",
       "      <td>2</td>\n",
       "      <td>2</td>\n",
       "      <td>1</td>\n",
       "      <td>1</td>\n",
       "    </tr>\n",
       "  </tbody>\n",
       "</table>\n",
       "</div>"
      ],
      "text/plain": [
       "   class  cap-shape  cap-surface  cap-color  bruises  odor  gill-color  \\\n",
       "0      1          3            4          1        1     8           1   \n",
       "1      0          3            4         10        1     1           1   \n",
       "2      0          1            4          9        1     2           2   \n",
       "3      1          3            3          9        1     8           2   \n",
       "4      0          3            4          4        0     7           1   \n",
       "\n",
       "   stalk-root  stalk-surface-above-ring  stalk-surface-below-ring  \\\n",
       "0           4                         4                         4   \n",
       "1           2                         4                         4   \n",
       "2           2                         4                         4   \n",
       "3           4                         4                         4   \n",
       "4           4                         4                         4   \n",
       "\n",
       "   stalk-color-above-ring  stalk-color-below-ring  ring-type  \\\n",
       "0                       8                       8          6   \n",
       "1                       8                       8          6   \n",
       "2                       8                       8          6   \n",
       "3                       8                       8          6   \n",
       "4                       8                       8          2   \n",
       "\n",
       "   spore-print-color  population  habitat  \n",
       "0                  1           4        5  \n",
       "1                  2           3        1  \n",
       "2                  2           3        3  \n",
       "3                  1           4        5  \n",
       "4                  2           1        1  "
      ]
     },
     "execution_count": 58,
     "metadata": {},
     "output_type": "execute_result"
    }
   ],
   "source": [
    "numerical_dataset.head()"
   ]
  },
  {
   "cell_type": "code",
   "execution_count": 59,
   "metadata": {},
   "outputs": [],
   "source": [
    "pca2 = PCA(n_components=5)"
   ]
  },
  {
   "cell_type": "code",
   "execution_count": 60,
   "metadata": {},
   "outputs": [
    {
     "data": {
      "text/plain": [
       "PCA(n_components=5)"
      ]
     },
     "execution_count": 60,
     "metadata": {},
     "output_type": "execute_result"
    }
   ],
   "source": [
    "pca2.fit(numerical_dataset.iloc[:,1:])"
   ]
  },
  {
   "cell_type": "code",
   "execution_count": 61,
   "metadata": {},
   "outputs": [],
   "source": [
    "components_pca2 = pd.DataFrame(pca2.components_, columns=[numerical_dataset.columns[1:]])"
   ]
  },
  {
   "cell_type": "code",
   "execution_count": 62,
   "metadata": {},
   "outputs": [
    {
     "data": {
      "text/html": [
       "<div>\n",
       "<style scoped>\n",
       "    .dataframe tbody tr th:only-of-type {\n",
       "        vertical-align: middle;\n",
       "    }\n",
       "\n",
       "    .dataframe tbody tr th {\n",
       "        vertical-align: top;\n",
       "    }\n",
       "\n",
       "    .dataframe thead tr th {\n",
       "        text-align: left;\n",
       "    }\n",
       "</style>\n",
       "<table border=\"1\" class=\"dataframe\">\n",
       "  <thead>\n",
       "    <tr>\n",
       "      <th></th>\n",
       "      <th>cap-shape</th>\n",
       "      <th>cap-surface</th>\n",
       "      <th>cap-color</th>\n",
       "      <th>bruises</th>\n",
       "      <th>odor</th>\n",
       "      <th>gill-color</th>\n",
       "      <th>stalk-root</th>\n",
       "      <th>stalk-surface-above-ring</th>\n",
       "    </tr>\n",
       "  </thead>\n",
       "  <tbody>\n",
       "    <tr>\n",
       "      <th>0</th>\n",
       "      <td>0.049367</td>\n",
       "      <td>0.109574</td>\n",
       "      <td>-0.210367</td>\n",
       "      <td>-0.064484</td>\n",
       "      <td>0.062713</td>\n",
       "      <td>-0.463001</td>\n",
       "      <td>0.543600</td>\n",
       "      <td>-0.027187</td>\n",
       "    </tr>\n",
       "    <tr>\n",
       "      <th>1</th>\n",
       "      <td>-0.052778</td>\n",
       "      <td>0.022495</td>\n",
       "      <td>0.856581</td>\n",
       "      <td>-0.012638</td>\n",
       "      <td>-0.253098</td>\n",
       "      <td>-0.363339</td>\n",
       "      <td>-0.038006</td>\n",
       "      <td>-0.022086</td>\n",
       "    </tr>\n",
       "    <tr>\n",
       "      <th>2</th>\n",
       "      <td>-0.021375</td>\n",
       "      <td>0.092689</td>\n",
       "      <td>0.261160</td>\n",
       "      <td>0.022609</td>\n",
       "      <td>-0.013455</td>\n",
       "      <td>0.752382</td>\n",
       "      <td>0.278143</td>\n",
       "      <td>0.023911</td>\n",
       "    </tr>\n",
       "    <tr>\n",
       "      <th>3</th>\n",
       "      <td>0.069502</td>\n",
       "      <td>-0.027802</td>\n",
       "      <td>0.259808</td>\n",
       "      <td>-0.064840</td>\n",
       "      <td>0.053899</td>\n",
       "      <td>0.182866</td>\n",
       "      <td>0.069761</td>\n",
       "      <td>-0.023121</td>\n",
       "    </tr>\n",
       "    <tr>\n",
       "      <th>4</th>\n",
       "      <td>-0.041637</td>\n",
       "      <td>-0.019393</td>\n",
       "      <td>-0.175150</td>\n",
       "      <td>-0.064232</td>\n",
       "      <td>-0.057790</td>\n",
       "      <td>0.155735</td>\n",
       "      <td>-0.099162</td>\n",
       "      <td>-0.130781</td>\n",
       "    </tr>\n",
       "  </tbody>\n",
       "</table>\n",
       "</div>"
      ],
      "text/plain": [
       "  cap-shape cap-surface cap-color   bruises      odor gill-color stalk-root  \\\n",
       "0  0.049367    0.109574 -0.210367 -0.064484  0.062713  -0.463001   0.543600   \n",
       "1 -0.052778    0.022495  0.856581 -0.012638 -0.253098  -0.363339  -0.038006   \n",
       "2 -0.021375    0.092689  0.261160  0.022609 -0.013455   0.752382   0.278143   \n",
       "3  0.069502   -0.027802  0.259808 -0.064840  0.053899   0.182866   0.069761   \n",
       "4 -0.041637   -0.019393 -0.175150 -0.064232 -0.057790   0.155735  -0.099162   \n",
       "\n",
       "  stalk-surface-above-ring  \n",
       "0                -0.027187  \n",
       "1                -0.022086  \n",
       "2                 0.023911  \n",
       "3                -0.023121  \n",
       "4                -0.130781  "
      ]
     },
     "execution_count": 62,
     "metadata": {},
     "output_type": "execute_result"
    }
   ],
   "source": [
    "components_pca2.iloc[:,0:8]"
   ]
  },
  {
   "cell_type": "code",
   "execution_count": 63,
   "metadata": {},
   "outputs": [
    {
     "data": {
      "text/html": [
       "<div>\n",
       "<style scoped>\n",
       "    .dataframe tbody tr th:only-of-type {\n",
       "        vertical-align: middle;\n",
       "    }\n",
       "\n",
       "    .dataframe tbody tr th {\n",
       "        vertical-align: top;\n",
       "    }\n",
       "\n",
       "    .dataframe thead tr th {\n",
       "        text-align: left;\n",
       "    }\n",
       "</style>\n",
       "<table border=\"1\" class=\"dataframe\">\n",
       "  <thead>\n",
       "    <tr>\n",
       "      <th></th>\n",
       "      <th>stalk-surface-below-ring</th>\n",
       "      <th>stalk-color-above-ring</th>\n",
       "      <th>stalk-color-below-ring</th>\n",
       "      <th>ring-type</th>\n",
       "      <th>spore-print-color</th>\n",
       "      <th>population</th>\n",
       "      <th>habitat</th>\n",
       "    </tr>\n",
       "  </thead>\n",
       "  <tbody>\n",
       "    <tr>\n",
       "      <th>0</th>\n",
       "      <td>-0.026824</td>\n",
       "      <td>0.165230</td>\n",
       "      <td>0.166315</td>\n",
       "      <td>-0.304834</td>\n",
       "      <td>0.469269</td>\n",
       "      <td>-0.079291</td>\n",
       "      <td>-0.217938</td>\n",
       "    </tr>\n",
       "    <tr>\n",
       "      <th>1</th>\n",
       "      <td>-0.024242</td>\n",
       "      <td>0.031902</td>\n",
       "      <td>0.053081</td>\n",
       "      <td>-0.022320</td>\n",
       "      <td>-0.060964</td>\n",
       "      <td>-0.045029</td>\n",
       "      <td>-0.232693</td>\n",
       "    </tr>\n",
       "    <tr>\n",
       "      <th>2</th>\n",
       "      <td>-0.000350</td>\n",
       "      <td>0.307497</td>\n",
       "      <td>0.288230</td>\n",
       "      <td>0.028782</td>\n",
       "      <td>0.233475</td>\n",
       "      <td>-0.135108</td>\n",
       "      <td>-0.163761</td>\n",
       "    </tr>\n",
       "    <tr>\n",
       "      <th>3</th>\n",
       "      <td>-0.010974</td>\n",
       "      <td>-0.453230</td>\n",
       "      <td>-0.488967</td>\n",
       "      <td>-0.177148</td>\n",
       "      <td>0.560454</td>\n",
       "      <td>0.161459</td>\n",
       "      <td>0.254481</td>\n",
       "    </tr>\n",
       "    <tr>\n",
       "      <th>4</th>\n",
       "      <td>-0.125692</td>\n",
       "      <td>-0.269324</td>\n",
       "      <td>-0.318583</td>\n",
       "      <td>-0.078955</td>\n",
       "      <td>-0.068538</td>\n",
       "      <td>-0.130462</td>\n",
       "      <td>-0.831130</td>\n",
       "    </tr>\n",
       "  </tbody>\n",
       "</table>\n",
       "</div>"
      ],
      "text/plain": [
       "  stalk-surface-below-ring stalk-color-above-ring stalk-color-below-ring  \\\n",
       "0                -0.026824               0.165230               0.166315   \n",
       "1                -0.024242               0.031902               0.053081   \n",
       "2                -0.000350               0.307497               0.288230   \n",
       "3                -0.010974              -0.453230              -0.488967   \n",
       "4                -0.125692              -0.269324              -0.318583   \n",
       "\n",
       "  ring-type spore-print-color population   habitat  \n",
       "0 -0.304834          0.469269  -0.079291 -0.217938  \n",
       "1 -0.022320         -0.060964  -0.045029 -0.232693  \n",
       "2  0.028782          0.233475  -0.135108 -0.163761  \n",
       "3 -0.177148          0.560454   0.161459  0.254481  \n",
       "4 -0.078955         -0.068538  -0.130462 -0.831130  "
      ]
     },
     "execution_count": 63,
     "metadata": {},
     "output_type": "execute_result"
    }
   ],
   "source": [
    "components_pca2.iloc[:,8:]"
   ]
  },
  {
   "cell_type": "code",
   "execution_count": 64,
   "metadata": {},
   "outputs": [],
   "source": [
    "# Let's try droping the columns cap-shape, cap-surface, bruises, stalk-surface-above-ring, stalk-surface-below-ring\n",
    "numerical_dataset = numerical_dataset.drop(labels=['cap-shape', 'cap-surface', 'bruises', 'stalk-surface-above-ring',\\\n",
    "                                                   'stalk-surface-below-ring'], axis=1)"
   ]
  },
  {
   "cell_type": "code",
   "execution_count": 65,
   "metadata": {},
   "outputs": [
    {
     "data": {
      "text/html": [
       "<div>\n",
       "<style scoped>\n",
       "    .dataframe tbody tr th:only-of-type {\n",
       "        vertical-align: middle;\n",
       "    }\n",
       "\n",
       "    .dataframe tbody tr th {\n",
       "        vertical-align: top;\n",
       "    }\n",
       "\n",
       "    .dataframe thead th {\n",
       "        text-align: right;\n",
       "    }\n",
       "</style>\n",
       "<table border=\"1\" class=\"dataframe\">\n",
       "  <thead>\n",
       "    <tr style=\"text-align: right;\">\n",
       "      <th></th>\n",
       "      <th>class</th>\n",
       "      <th>cap-color</th>\n",
       "      <th>odor</th>\n",
       "      <th>gill-color</th>\n",
       "      <th>stalk-root</th>\n",
       "      <th>stalk-color-above-ring</th>\n",
       "      <th>stalk-color-below-ring</th>\n",
       "      <th>ring-type</th>\n",
       "      <th>spore-print-color</th>\n",
       "      <th>population</th>\n",
       "      <th>habitat</th>\n",
       "    </tr>\n",
       "  </thead>\n",
       "  <tbody>\n",
       "    <tr>\n",
       "      <th>0</th>\n",
       "      <td>1</td>\n",
       "      <td>1</td>\n",
       "      <td>8</td>\n",
       "      <td>1</td>\n",
       "      <td>4</td>\n",
       "      <td>8</td>\n",
       "      <td>8</td>\n",
       "      <td>6</td>\n",
       "      <td>1</td>\n",
       "      <td>4</td>\n",
       "      <td>5</td>\n",
       "    </tr>\n",
       "    <tr>\n",
       "      <th>1</th>\n",
       "      <td>0</td>\n",
       "      <td>10</td>\n",
       "      <td>1</td>\n",
       "      <td>1</td>\n",
       "      <td>2</td>\n",
       "      <td>8</td>\n",
       "      <td>8</td>\n",
       "      <td>6</td>\n",
       "      <td>2</td>\n",
       "      <td>3</td>\n",
       "      <td>1</td>\n",
       "    </tr>\n",
       "    <tr>\n",
       "      <th>2</th>\n",
       "      <td>0</td>\n",
       "      <td>9</td>\n",
       "      <td>2</td>\n",
       "      <td>2</td>\n",
       "      <td>2</td>\n",
       "      <td>8</td>\n",
       "      <td>8</td>\n",
       "      <td>6</td>\n",
       "      <td>2</td>\n",
       "      <td>3</td>\n",
       "      <td>3</td>\n",
       "    </tr>\n",
       "    <tr>\n",
       "      <th>3</th>\n",
       "      <td>1</td>\n",
       "      <td>9</td>\n",
       "      <td>8</td>\n",
       "      <td>2</td>\n",
       "      <td>4</td>\n",
       "      <td>8</td>\n",
       "      <td>8</td>\n",
       "      <td>6</td>\n",
       "      <td>1</td>\n",
       "      <td>4</td>\n",
       "      <td>5</td>\n",
       "    </tr>\n",
       "    <tr>\n",
       "      <th>4</th>\n",
       "      <td>0</td>\n",
       "      <td>4</td>\n",
       "      <td>7</td>\n",
       "      <td>1</td>\n",
       "      <td>4</td>\n",
       "      <td>8</td>\n",
       "      <td>8</td>\n",
       "      <td>2</td>\n",
       "      <td>2</td>\n",
       "      <td>1</td>\n",
       "      <td>1</td>\n",
       "    </tr>\n",
       "  </tbody>\n",
       "</table>\n",
       "</div>"
      ],
      "text/plain": [
       "   class  cap-color  odor  gill-color  stalk-root  stalk-color-above-ring  \\\n",
       "0      1          1     8           1           4                       8   \n",
       "1      0         10     1           1           2                       8   \n",
       "2      0          9     2           2           2                       8   \n",
       "3      1          9     8           2           4                       8   \n",
       "4      0          4     7           1           4                       8   \n",
       "\n",
       "   stalk-color-below-ring  ring-type  spore-print-color  population  habitat  \n",
       "0                       8          6                  1           4        5  \n",
       "1                       8          6                  2           3        1  \n",
       "2                       8          6                  2           3        3  \n",
       "3                       8          6                  1           4        5  \n",
       "4                       8          2                  2           1        1  "
      ]
     },
     "execution_count": 65,
     "metadata": {},
     "output_type": "execute_result"
    }
   ],
   "source": [
    "numerical_dataset.head()"
   ]
  },
  {
   "cell_type": "markdown",
   "metadata": {},
   "source": [
    "<b>Model</b>: Decision Tree<br>\n",
    "<b>Criterion</b>: 'gini'<br>\n",
    "<b>Pruning</b>: Yes (max_depth=5)<br>\n",
    "<b>Cross-Validation</b>: KFold (5 folds)<br>\n",
    "<b>Metrics</b>: Accuracy, F1, Precision, Recall<br>"
   ]
  },
  {
   "cell_type": "code",
   "execution_count": 66,
   "metadata": {},
   "outputs": [
    {
     "name": "stdout",
     "output_type": "stream",
     "text": [
      "\u001b[1m\u001b[91mTraining Set\u001b[0m\n",
      "Accuracy:  0.9932299359921221\n",
      "F1 score:  0.9932241693977668\n",
      "Precision score:  0.9930747922437673\n",
      "Recall score:  0.9934648288973384\n",
      "------------------------------\n",
      "\u001b[1m\u001b[94mTesting Set\u001b[0m\n",
      "Accuracy:  0.9926144756277696\n",
      "F1 score:  0.9926084476478414\n",
      "Precision score:  0.9924547283702213\n",
      "Recall score:  0.9928707224334601\n"
     ]
    }
   ],
   "source": [
    "kf = KFold(n_splits=5, shuffle=True, random_state=None)\n",
    "\n",
    "y_true_train = np.array([])\n",
    "y_pred_train = np.array([])\n",
    "\n",
    "y_true_test = np.array([])\n",
    "y_pred_test = np.array([])\n",
    "\n",
    "for train, test in kf.split(numerical_dataset):\n",
    "    x_train, x_test = numerical_dataset.values[train], numerical_dataset.values[test]\n",
    "    \n",
    "    # The target class is in the first column (column 0)\n",
    "    y_train = x_train[:,0]\n",
    "    x_train = x_train[:,1:]\n",
    "    y_test = x_test[:,0]\n",
    "    x_test = x_test[:,1:]\n",
    "    \n",
    "    dtc = DecisionTreeClassifier(criterion='gini', max_depth=5)\n",
    "    # training\n",
    "    dtc.fit(x_train, y_train)\n",
    "    \n",
    "    # predictions for the training set\n",
    "    for indx, input_ in enumerate(x_train):\n",
    "        y_true_train = np.append(y_true_train, y_train[indx])\n",
    "        y_pred_train = np.append(y_pred_train, dtc.predict([input_]))\n",
    "    \n",
    "    # predictions for the testing set\n",
    "    for indx, input_ in enumerate(x_test):\n",
    "        y_true_test = np.append(y_true_test, y_test[indx])\n",
    "        y_pred_test = np.append(y_pred_test, dtc.predict([input_]))\n",
    "    \n",
    "\n",
    "# Evaluating the results\n",
    "\n",
    "print(color_for_print.BOLD + color_for_print.RED + 'Training Set' + color_for_print.END)\n",
    "print('Accuracy: ', accuracy_score(y_true_train, y_pred_train))\n",
    "print('F1 score: ',f1_score(y_true_train, y_pred_train, average='macro'))\n",
    "print('Precision score: ',precision_score(y_true_train, y_pred_train, average='macro'))\n",
    "print('Recall score: ', recall_score(y_true_train, y_pred_train, average='macro'))\n",
    "print(30*'-')\n",
    "print(color_for_print.BOLD + color_for_print.BLUE + 'Testing Set' + color_for_print.END)\n",
    "print('Accuracy: ', accuracy_score(y_true_test, y_pred_test))\n",
    "print('F1 score: ',f1_score(y_true_test, y_pred_test, average='macro'))\n",
    "print('Precision score: ',precision_score(y_true_test, y_pred_test, average='macro'))\n",
    "print('Recall score: ', recall_score(y_true_test, y_pred_test, average='macro'))"
   ]
  },
  {
   "cell_type": "markdown",
   "metadata": {},
   "source": [
    "The metrics are even better now!"
   ]
  },
  {
   "cell_type": "code",
   "execution_count": 67,
   "metadata": {},
   "outputs": [],
   "source": [
    "pca3 = PCA(n_components=5)"
   ]
  },
  {
   "cell_type": "code",
   "execution_count": 68,
   "metadata": {},
   "outputs": [
    {
     "data": {
      "text/plain": [
       "PCA(n_components=5)"
      ]
     },
     "execution_count": 68,
     "metadata": {},
     "output_type": "execute_result"
    }
   ],
   "source": [
    "pca3.fit(numerical_dataset.iloc[:,1:])"
   ]
  },
  {
   "cell_type": "code",
   "execution_count": 69,
   "metadata": {},
   "outputs": [],
   "source": [
    "components_pca3 = pd.DataFrame(pca3.components_, columns=[numerical_dataset.columns[1:]])"
   ]
  },
  {
   "cell_type": "code",
   "execution_count": 70,
   "metadata": {},
   "outputs": [
    {
     "data": {
      "text/html": [
       "<div>\n",
       "<style scoped>\n",
       "    .dataframe tbody tr th:only-of-type {\n",
       "        vertical-align: middle;\n",
       "    }\n",
       "\n",
       "    .dataframe tbody tr th {\n",
       "        vertical-align: top;\n",
       "    }\n",
       "\n",
       "    .dataframe thead tr th {\n",
       "        text-align: left;\n",
       "    }\n",
       "</style>\n",
       "<table border=\"1\" class=\"dataframe\">\n",
       "  <thead>\n",
       "    <tr>\n",
       "      <th></th>\n",
       "      <th>cap-color</th>\n",
       "      <th>odor</th>\n",
       "      <th>gill-color</th>\n",
       "      <th>stalk-root</th>\n",
       "      <th>stalk-color-above-ring</th>\n",
       "      <th>stalk-color-below-ring</th>\n",
       "      <th>ring-type</th>\n",
       "      <th>spore-print-color</th>\n",
       "      <th>population</th>\n",
       "      <th>habitat</th>\n",
       "    </tr>\n",
       "  </thead>\n",
       "  <tbody>\n",
       "    <tr>\n",
       "      <th>0</th>\n",
       "      <td>-0.218595</td>\n",
       "      <td>0.065595</td>\n",
       "      <td>-0.472133</td>\n",
       "      <td>0.547693</td>\n",
       "      <td>0.168075</td>\n",
       "      <td>0.169345</td>\n",
       "      <td>-0.306017</td>\n",
       "      <td>0.470062</td>\n",
       "      <td>-0.079413</td>\n",
       "      <td>-0.217250</td>\n",
       "    </tr>\n",
       "    <tr>\n",
       "      <th>1</th>\n",
       "      <td>0.858450</td>\n",
       "      <td>-0.251185</td>\n",
       "      <td>-0.370784</td>\n",
       "      <td>-0.034619</td>\n",
       "      <td>0.030795</td>\n",
       "      <td>0.052257</td>\n",
       "      <td>-0.024748</td>\n",
       "      <td>-0.056396</td>\n",
       "      <td>-0.043031</td>\n",
       "      <td>-0.227962</td>\n",
       "    </tr>\n",
       "    <tr>\n",
       "      <th>2</th>\n",
       "      <td>0.311031</td>\n",
       "      <td>0.002107</td>\n",
       "      <td>0.768530</td>\n",
       "      <td>0.294892</td>\n",
       "      <td>0.213357</td>\n",
       "      <td>0.186654</td>\n",
       "      <td>-0.015242</td>\n",
       "      <td>0.346825</td>\n",
       "      <td>-0.103083</td>\n",
       "      <td>-0.118944</td>\n",
       "    </tr>\n",
       "    <tr>\n",
       "      <th>3</th>\n",
       "      <td>0.192635</td>\n",
       "      <td>0.052930</td>\n",
       "      <td>0.022506</td>\n",
       "      <td>0.017374</td>\n",
       "      <td>-0.506400</td>\n",
       "      <td>-0.536966</td>\n",
       "      <td>-0.176369</td>\n",
       "      <td>0.511675</td>\n",
       "      <td>0.188563</td>\n",
       "      <td>0.293318</td>\n",
       "    </tr>\n",
       "    <tr>\n",
       "      <th>4</th>\n",
       "      <td>-0.170700</td>\n",
       "      <td>-0.071298</td>\n",
       "      <td>0.140450</td>\n",
       "      <td>-0.093161</td>\n",
       "      <td>-0.285740</td>\n",
       "      <td>-0.333590</td>\n",
       "      <td>-0.066541</td>\n",
       "      <td>-0.054397</td>\n",
       "      <td>-0.124359</td>\n",
       "      <td>-0.849465</td>\n",
       "    </tr>\n",
       "  </tbody>\n",
       "</table>\n",
       "</div>"
      ],
      "text/plain": [
       "  cap-color      odor gill-color stalk-root stalk-color-above-ring  \\\n",
       "0 -0.218595  0.065595  -0.472133   0.547693               0.168075   \n",
       "1  0.858450 -0.251185  -0.370784  -0.034619               0.030795   \n",
       "2  0.311031  0.002107   0.768530   0.294892               0.213357   \n",
       "3  0.192635  0.052930   0.022506   0.017374              -0.506400   \n",
       "4 -0.170700 -0.071298   0.140450  -0.093161              -0.285740   \n",
       "\n",
       "  stalk-color-below-ring ring-type spore-print-color population   habitat  \n",
       "0               0.169345 -0.306017          0.470062  -0.079413 -0.217250  \n",
       "1               0.052257 -0.024748         -0.056396  -0.043031 -0.227962  \n",
       "2               0.186654 -0.015242          0.346825  -0.103083 -0.118944  \n",
       "3              -0.536966 -0.176369          0.511675   0.188563  0.293318  \n",
       "4              -0.333590 -0.066541         -0.054397  -0.124359 -0.849465  "
      ]
     },
     "execution_count": 70,
     "metadata": {},
     "output_type": "execute_result"
    }
   ],
   "source": [
    "components_pca3"
   ]
  },
  {
   "cell_type": "code",
   "execution_count": 71,
   "metadata": {},
   "outputs": [],
   "source": [
    "# saving the model\n",
    "pickle.dump(dtc, open('decision_tree_for_mushrooms_dataset.sav', 'wb'))"
   ]
  },
  {
   "cell_type": "code",
   "execution_count": 72,
   "metadata": {},
   "outputs": [],
   "source": [
    "# To load the model\n",
    "loaded_dtc = pickle.load(open('decision_tree_for_mushrooms_dataset.sav', 'rb'))"
   ]
  },
  {
   "cell_type": "code",
   "execution_count": 73,
   "metadata": {},
   "outputs": [
    {
     "data": {
      "text/plain": [
       "sklearn.tree._classes.DecisionTreeClassifier"
      ]
     },
     "execution_count": 73,
     "metadata": {},
     "output_type": "execute_result"
    }
   ],
   "source": [
    "type(loaded_dtc)"
   ]
  },
  {
   "cell_type": "code",
   "execution_count": 74,
   "metadata": {},
   "outputs": [
    {
     "data": {
      "text/plain": [
       "0"
      ]
     },
     "execution_count": 74,
     "metadata": {},
     "output_type": "execute_result"
    }
   ],
   "source": [
    "y_test[indx]"
   ]
  },
  {
   "cell_type": "code",
   "execution_count": 75,
   "metadata": {},
   "outputs": [
    {
     "data": {
      "text/plain": [
       "array([ 1,  7, 12,  7,  5,  5,  6,  6,  2,  2], dtype=int64)"
      ]
     },
     "execution_count": 75,
     "metadata": {},
     "output_type": "execute_result"
    }
   ],
   "source": [
    "input_"
   ]
  },
  {
   "cell_type": "code",
   "execution_count": 77,
   "metadata": {},
   "outputs": [
    {
     "data": {
      "text/plain": [
       "array([0], dtype=int64)"
      ]
     },
     "execution_count": 77,
     "metadata": {},
     "output_type": "execute_result"
    }
   ],
   "source": [
    "dtc.predict([input_])"
   ]
  },
  {
   "cell_type": "code",
   "execution_count": 78,
   "metadata": {},
   "outputs": [
    {
     "data": {
      "text/plain": [
       "array([0], dtype=int64)"
      ]
     },
     "execution_count": 78,
     "metadata": {},
     "output_type": "execute_result"
    }
   ],
   "source": [
    "loaded_dtc.predict([input_])"
   ]
  },
  {
   "cell_type": "code",
   "execution_count": null,
   "metadata": {},
   "outputs": [],
   "source": []
  }
 ],
 "metadata": {
  "kernelspec": {
   "display_name": "Python 3",
   "language": "python",
   "name": "python3"
  },
  "language_info": {
   "codemirror_mode": {
    "name": "ipython",
    "version": 3
   },
   "file_extension": ".py",
   "mimetype": "text/x-python",
   "name": "python",
   "nbconvert_exporter": "python",
   "pygments_lexer": "ipython3",
   "version": "3.7.6"
  }
 },
 "nbformat": 4,
 "nbformat_minor": 4
}
